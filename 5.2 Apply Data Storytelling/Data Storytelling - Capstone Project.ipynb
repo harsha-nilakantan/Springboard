{
 "cells": [
  {
   "cell_type": "markdown",
   "metadata": {},
   "source": [
    "# 5.2 Capstone Project - Data Storytelling"
   ]
  },
  {
   "cell_type": "markdown",
   "metadata": {},
   "source": [
    "## Introduction:\n",
    "\n",
    "In this notebook we're going to start exploring the dataset by answering a few simple questions about various parts of the data. \n",
    "\n",
    "But, before we start asking and answering any questions, we must make sure that the data still looks good after the wrangling step. \n",
    "\n",
    "Once this is assured, we will move on with the data exploration.\n",
    "\n"
   ]
  },
  {
   "cell_type": "code",
   "execution_count": 79,
   "metadata": {},
   "outputs": [],
   "source": [
    "# Imports\n",
    "import pandas as pd\n",
    "import numpy as np\n",
    "import seaborn as sns\n",
    "import matplotlib.pyplot as plt\n"
   ]
  },
  {
   "cell_type": "code",
   "execution_count": 80,
   "metadata": {},
   "outputs": [
    {
     "name": "stdout",
     "output_type": "stream",
     "text": [
      "                       ID          Name  Danceability  Energy   Key  Loudness  \\\n",
      "0  6J2VvzKwWc2f0JP5RQVZjq    YuveYuveYu         0.624   0.857  10.0    -6.250   \n",
      "1  4HA34COgxgVJ6zK88UN4Ik   Gloryhammer         0.517   0.916   0.0    -4.933   \n",
      "2  3W6Xik6Xxf06JuUoZSATlD        Nostos         0.251   0.894   8.0    -4.103   \n",
      "3  2gGveBaLJQMtJ43X4UL5kH     Yggdrasil         0.469   0.743   1.0    -5.570   \n",
      "4  1lRF81A1C9QoCgBcEop2zg  Incense&Iron         0.487   0.952   1.0    -4.429   \n",
      "\n",
      "   Mode  Speechness  Acousticness  Instrumentalness  Liveness  Valence  \\\n",
      "0   0.0      0.0542      0.020800          0.206000     0.110    0.324   \n",
      "1   1.0      0.0559      0.000182          0.001910     0.306    0.444   \n",
      "2   0.0      0.0570      0.014400          0.000000     0.123    0.297   \n",
      "3   0.0      0.0272      0.002220          0.000111     0.276    0.481   \n",
      "4   0.0      0.0613      0.000228          0.000000     0.161    0.329   \n",
      "\n",
      "     Tempo  Duration_ms  time_signature        Genre            Artists  \\\n",
      "0  131.926     282920.0             4.0  celticmetal             The HU   \n",
      "1  135.996     300320.0             4.0  celticmetal        Gloryhammer   \n",
      "2  114.223     175353.0             4.0  celticmetal      Orion's Reign   \n",
      "3   86.953     272292.0             4.0  celticmetal  Brothers of Metal   \n",
      "4  125.993     237933.0             4.0  celticmetal          Powerwolf   \n",
      "\n",
      "   Popularity  \n",
      "0          55  \n",
      "1          21  \n",
      "2           2  \n",
      "3          50  \n",
      "4          22  \n"
     ]
    }
   ],
   "source": [
    " # Initial Data Load\n",
    "df = pd.read_csv(\"FinalData.csv\", sep = ',')\n",
    "\n",
    "print(df.head())"
   ]
  },
  {
   "cell_type": "code",
   "execution_count": 81,
   "metadata": {},
   "outputs": [
    {
     "name": "stdout",
     "output_type": "stream",
     "text": [
      "<class 'pandas.core.frame.DataFrame'>\n",
      "RangeIndex: 121815 entries, 0 to 121814\n",
      "Data columns (total 18 columns):\n",
      "ID                  121815 non-null object\n",
      "Name                121815 non-null object\n",
      "Danceability        121815 non-null float64\n",
      "Energy              121815 non-null float64\n",
      "Key                 121815 non-null float64\n",
      "Loudness            121815 non-null float64\n",
      "Mode                121815 non-null float64\n",
      "Speechness          121815 non-null float64\n",
      "Acousticness        121815 non-null float64\n",
      "Instrumentalness    121815 non-null float64\n",
      "Liveness            121815 non-null float64\n",
      "Valence             121815 non-null float64\n",
      "Tempo               121815 non-null float64\n",
      "Duration_ms         121815 non-null float64\n",
      "time_signature      121815 non-null float64\n",
      "Genre               121815 non-null object\n",
      "Artists             121808 non-null object\n",
      "Popularity          121815 non-null int64\n",
      "dtypes: float64(13), int64(1), object(4)\n",
      "memory usage: 16.7+ MB\n"
     ]
    }
   ],
   "source": [
    "# Just to make sure, we check if there are any nulls\n",
    "df.info()"
   ]
  },
  {
   "cell_type": "markdown",
   "metadata": {},
   "source": [
    "### Surprisingly, we find that there are nulls in the 'Artists' column, probably from some corruption during the csv write process, at the end of wrangling. "
   ]
  },
  {
   "cell_type": "code",
   "execution_count": 82,
   "metadata": {},
   "outputs": [
    {
     "name": "stdout",
     "output_type": "stream",
     "text": [
      "                           ID         Name  Danceability  Energy  Key  \\\n",
      "24425  66sqRn9QFYyvTRx0JuMXEe   AtlasHands         0.845   0.476  1.0   \n",
      "24426  5XooUbpH4jIz9Fp9Rx2cD2  LittleTalks         0.846   0.774  6.0   \n",
      "24427  1ePLnbnmhMYO5MnlLfjM2K     Snowship         0.850   0.570  5.0   \n",
      "41586  66sqRn9QFYyvTRx0JuMXEe   AtlasHands         0.845   0.476  1.0   \n",
      "41587  5XooUbpH4jIz9Fp9Rx2cD2  LittleTalks         0.846   0.774  6.0   \n",
      "41588  1ePLnbnmhMYO5MnlLfjM2K     Snowship         0.850   0.570  5.0   \n",
      "69094  6wArRmVIkwiEi2Ft3Oj1VZ     AveMaria         0.211   0.165  5.0   \n",
      "\n",
      "       Loudness  Mode  Speechness  Acousticness  Instrumentalness  Liveness  \\\n",
      "24425   -10.684   1.0      0.1290       0.03540           0.26400     0.333   \n",
      "24426    -5.746   1.0      0.0574       0.00754           0.20900     0.119   \n",
      "24427    -8.661   1.0      0.0615       0.04220           0.00472     0.151   \n",
      "41586   -10.684   1.0      0.1290       0.03540           0.26400     0.333   \n",
      "41587    -5.746   1.0      0.0574       0.00754           0.20900     0.119   \n",
      "41588    -8.661   1.0      0.0615       0.04220           0.00472     0.151   \n",
      "69094   -17.797   1.0      0.0427       0.92300           0.95400     0.112   \n",
      "\n",
      "       Valence    Tempo  Duration_ms  time_signature           Genre Artists  \\\n",
      "24425   0.6270  106.996     327587.0             4.0   tropicalhouse     NaN   \n",
      "24426   0.6620  114.999     354801.0             4.0   tropicalhouse     NaN   \n",
      "24427   0.5020  105.014     335018.0             4.0   tropicalhouse     NaN   \n",
      "41586   0.6270  106.996     327587.0             4.0   deepdeephouse     NaN   \n",
      "41587   0.6620  114.999     354801.0             4.0   deepdeephouse     NaN   \n",
      "41588   0.5020  105.014     335018.0             4.0   deepdeephouse     NaN   \n",
      "69094   0.0422  125.536     306267.0             4.0  norwegianchoir     NaN   \n",
      "\n",
      "       Popularity  \n",
      "24425           0  \n",
      "24426           0  \n",
      "24427           0  \n",
      "41586           0  \n",
      "41587           0  \n",
      "41588           0  \n",
      "69094          18  \n",
      "(121808, 18)\n",
      "<class 'pandas.core.frame.DataFrame'>\n",
      "Int64Index: 121808 entries, 0 to 121814\n",
      "Data columns (total 18 columns):\n",
      "ID                  121808 non-null object\n",
      "Name                121808 non-null object\n",
      "Danceability        121808 non-null float64\n",
      "Energy              121808 non-null float64\n",
      "Key                 121808 non-null float64\n",
      "Loudness            121808 non-null float64\n",
      "Mode                121808 non-null float64\n",
      "Speechness          121808 non-null float64\n",
      "Acousticness        121808 non-null float64\n",
      "Instrumentalness    121808 non-null float64\n",
      "Liveness            121808 non-null float64\n",
      "Valence             121808 non-null float64\n",
      "Tempo               121808 non-null float64\n",
      "Duration_ms         121808 non-null float64\n",
      "time_signature      121808 non-null float64\n",
      "Genre               121808 non-null object\n",
      "Artists             121808 non-null object\n",
      "Popularity          121808 non-null int64\n",
      "dtypes: float64(13), int64(1), object(4)\n",
      "memory usage: 17.7+ MB\n",
      "None\n",
      "                       ID          Name  Danceability  Energy   Key  Loudness  \\\n",
      "0  6J2VvzKwWc2f0JP5RQVZjq    YuveYuveYu         0.624   0.857  10.0    -6.250   \n",
      "1  4HA34COgxgVJ6zK88UN4Ik   Gloryhammer         0.517   0.916   0.0    -4.933   \n",
      "2  3W6Xik6Xxf06JuUoZSATlD        Nostos         0.251   0.894   8.0    -4.103   \n",
      "3  2gGveBaLJQMtJ43X4UL5kH     Yggdrasil         0.469   0.743   1.0    -5.570   \n",
      "4  1lRF81A1C9QoCgBcEop2zg  Incense&Iron         0.487   0.952   1.0    -4.429   \n",
      "\n",
      "   Mode  Speechness  Acousticness  Instrumentalness  Liveness  Valence  \\\n",
      "0   0.0      0.0542      0.020800          0.206000     0.110    0.324   \n",
      "1   1.0      0.0559      0.000182          0.001910     0.306    0.444   \n",
      "2   0.0      0.0570      0.014400          0.000000     0.123    0.297   \n",
      "3   0.0      0.0272      0.002220          0.000111     0.276    0.481   \n",
      "4   0.0      0.0613      0.000228          0.000000     0.161    0.329   \n",
      "\n",
      "     Tempo  Duration_ms  time_signature        Genre            Artists  \\\n",
      "0  131.926     282920.0             4.0  celticmetal             The HU   \n",
      "1  135.996     300320.0             4.0  celticmetal        Gloryhammer   \n",
      "2  114.223     175353.0             4.0  celticmetal      Orion's Reign   \n",
      "3   86.953     272292.0             4.0  celticmetal  Brothers of Metal   \n",
      "4  125.993     237933.0             4.0  celticmetal          Powerwolf   \n",
      "\n",
      "   Popularity  \n",
      "0          55  \n",
      "1          21  \n",
      "2           2  \n",
      "3          50  \n",
      "4          22  \n"
     ]
    }
   ],
   "source": [
    "print(df[df['Artists'].isnull()])\n",
    "\n",
    "# Remove the null records completely\n",
    "df = df.dropna()\n",
    "\n",
    "# Check again\n",
    "print(df.shape)\n",
    "print(df.info())\n",
    "\n",
    "print(df.head())"
   ]
  },
  {
   "cell_type": "markdown",
   "metadata": {},
   "source": [
    "### Now that the data looks cleaned up, we can sort through some initial questions\n",
    "\n",
    "#### Here are some questions we can ask, to try and understand our data a little better:\n",
    "\n",
    "1. How many different unique 'Genres' are there in this data set?\n",
    "2. How many songs per 'Genre'?\n",
    "2. How much does the 'Danceability' vary?\n",
    "3. How much does the 'Instrumentalness' vary?\n",
    "4. Are there any songs that are **NOT** in a 4.0 'time_signature'?\n",
    "5. How much does the 'Tempo' vary?\n",
    "6. Does there exist any correlation between 'Danceability' and 'Energy' for a song? and vice-versa? (Can probably be plotted)\n",
    "7. Does there exist any correlation between 'Speechiness' and 'Instrumentalness'? (Can probably be plotted)\n",
    "8. Does there exist any correlation between 'Genre' and 'Popularity'? \n",
    "9. How much does the 'Popularity' measure vary?\n",
    "10. How many 'Genres' seem to show very low popularity?\n"
   ]
  },
  {
   "cell_type": "markdown",
   "metadata": {},
   "source": [
    "#### 1. How many different unique 'Genres' are there in this data set?\n",
    "\n",
    "We could potentially find some sort of clustering on the genres. So it is important to know how many there are."
   ]
  },
  {
   "cell_type": "code",
   "execution_count": 83,
   "metadata": {},
   "outputs": [
    {
     "name": "stdout",
     "output_type": "stream",
     "text": [
      "There are  625  genres in the data.\n"
     ]
    }
   ],
   "source": [
    "# 1. unique 'Genres':\n",
    "uniqueGenres = df.Genre.unique()\n",
    "numGenres = len(uniqueGenres)\n",
    "print(\"There are \", numGenres, \" genres in the data.\")"
   ]
  },
  {
   "cell_type": "markdown",
   "metadata": {},
   "source": [
    "With 121808 songs over 625 genres. We could eliminate genres with very few songs as well, if needed."
   ]
  },
  {
   "cell_type": "markdown",
   "metadata": {},
   "source": [
    "#### 2. How many songs per 'Genre'?"
   ]
  },
  {
   "cell_type": "code",
   "execution_count": 84,
   "metadata": {},
   "outputs": [
    {
     "name": "stdout",
     "output_type": "stream",
     "text": [
      "nuelectro               892\n",
      "deepdeephouse           860\n",
      "newrave                 857\n",
      "alternativeamericana    855\n",
      "organicambient          837\n",
      "metalguitar             819\n",
      "groovemetal             816\n",
      "deepchill-out           813\n",
      "torontoindie            807\n",
      "reading                 784\n",
      "blues-rock              780\n",
      "noisepunk               779\n",
      "dronefolk               778\n",
      "psychill                775\n",
      "experimentalhouse       766\n",
      "breakcore               754\n",
      "darktechno              751\n",
      "minimaltechno           749\n",
      "gothicmetal             746\n",
      "doo-wop                 744\n",
      "Name: Genre, dtype: int64\n",
      "\n",
      "No. of bins:  25\n"
     ]
    },
    {
     "data": {
      "image/png": "[encoded data removed]",
      "text/plain": [
       "<matplotlib.figure.Figure at 0x14e2d411588>"
      ]
     },
     "metadata": {},
     "output_type": "display_data"
    }
   ],
   "source": [
    "# 2. No. of songs per 'Genre':\n",
    "genreSeries = df['Genre'].value_counts() # returns a Series\n",
    "print(genreSeries.head(20))\n",
    "\n",
    "# using the \"square root of no. of samples\" rule, to assign number of bins for the histogram\n",
    "numBins = int(np.sqrt(numGenres))\n",
    "print(\"\\nNo. of bins: \", numBins)\n",
    "\n",
    "# histogram\n",
    "_ = plt.hist(genreSeries, bins = numBins)\n",
    "_ = plt.xlabel('No. of Songs per Genre')\n",
    "_ = plt.ylabel('No. of Genres Per Bin')\n",
    "_ = plt.title(\"Plot of Songs Per Genre\")\n",
    "plt.show()"
   ]
  },
  {
   "cell_type": "markdown",
   "metadata": {},
   "source": [
    "We see that the data largely separates in the number of songs found per genre. We could possibly separate the data between those genres that contain more than approximately 200 songs and those that don't."
   ]
  },
  {
   "cell_type": "code",
   "execution_count": 85,
   "metadata": {},
   "outputs": [
    {
     "name": "stdout",
     "output_type": "stream",
     "text": [
      "\n",
      "No. of genres with less than 200 songs:  523\n",
      "\n",
      "Top 10 genres with less than 200 songs:\n",
      " gauzepop                199\n",
      "mexicanpoppunk          199\n",
      "rootsreggae             199\n",
      "finnishjazz             199\n",
      "drumfunk                199\n",
      "progressivedeathcore    199\n",
      "finnishfolk             199\n",
      "germantechno            199\n",
      "deepnorteno             199\n",
      "deepccm                 198\n",
      "Name: Genre, dtype: int64\n",
      "\n",
      "Bottom 10 genres with less than 200 songs:\n",
      " tijuanaelectronic    4\n",
      "turkishelectronic    4\n",
      "marchafunebre        4\n",
      "slavicmetal          4\n",
      "romanianindie        3\n",
      "azeripop             2\n",
      "russianelectronic    2\n",
      "modernperformance    1\n",
      "balticfolk           1\n",
      "turkishhiphop        1\n",
      "Name: Genre, dtype: int64\n",
      "\n",
      "No. of genres with 200 songs or more:  102\n",
      "\n",
      "Top 10 genres with 200+ songs:\n",
      " nuelectro               892\n",
      "deepdeephouse           860\n",
      "newrave                 857\n",
      "alternativeamericana    855\n",
      "organicambient          837\n",
      "metalguitar             819\n",
      "groovemetal             816\n",
      "deepchill-out           813\n",
      "torontoindie            807\n",
      "reading                 784\n",
      "Name: Genre, dtype: int64\n",
      "\n",
      "Bottom 10 genres with 200+songs:\n",
      " minneapolisindie            264\n",
      "italianundergroundhiphop    249\n",
      "khmer                       232\n",
      "undergroundlatinhiphop      232\n",
      "sungpoetry                  225\n",
      "vintageradioshow            225\n",
      "mandepop                    218\n",
      "mexicanrock-and-roll        213\n",
      "futureambient               200\n",
      "symphonicpowermetal         200\n",
      "Name: Genre, dtype: int64\n"
     ]
    }
   ],
   "source": [
    "# Preparing to separate data\n",
    "\n",
    "genresLessThan200Songs = genreSeries[genreSeries < 200]\n",
    "print(\"\\nNo. of genres with less than 200 songs: \", len(genresLessThan200Songs))\n",
    "print(\"\\nTop 10 genres with less than 200 songs:\\n\", genresLessThan200Songs.head(10))\n",
    "print(\"\\nBottom 10 genres with less than 200 songs:\\n\", genresLessThan200Songs.tail(10))\n",
    "\n",
    "genresMoreThan200Songs = genreSeries[genreSeries >= 200]\n",
    "print(\"\\nNo. of genres with 200 songs or more: \", len(genresMoreThan200Songs))\n",
    "print(\"\\nTop 10 genres with 200+ songs:\\n\", genresMoreThan200Songs.head(10))\n",
    "print(\"\\nBottom 10 genres with 200+songs:\\n\", genresMoreThan200Songs.tail(10))"
   ]
  },
  {
   "cell_type": "markdown",
   "metadata": {},
   "source": [
    "**Interpretation:** We see that near around the 200 song mark the data separates rather nicely, with a bulk of 523 genres having less than 200 songs, and about 102 genres having 200 or more songs. "
   ]
  },
  {
   "cell_type": "markdown",
   "metadata": {},
   "source": [
    "#### 3. How much does the 'Danceability' vary?\n",
    "\n",
    "We know that some genres of music to be more suiting to dance, than others. If the data is widespread enough, down the line we could potentially check for this correlation. Else, we could conclude that this metric may not be very useful to us."
   ]
  },
  {
   "cell_type": "code",
   "execution_count": 114,
   "metadata": {},
   "outputs": [
    {
     "name": "stdout",
     "output_type": "stream",
     "text": [
      "         Genre  Danceability\n",
      "0  celticmetal         0.624\n",
      "1  celticmetal         0.517\n",
      "2  celticmetal         0.251\n",
      "3  celticmetal         0.469\n",
      "4  celticmetal         0.487\n",
      "        Danceability\n",
      "count  121808.000000\n",
      "mean        0.552998\n",
      "std         0.183774\n",
      "min         0.000000\n",
      "25%         0.430000\n",
      "50%         0.566000\n",
      "75%         0.693000\n",
      "max         0.988000\n"
     ]
    },
    {
     "data": {
      "image/png": "[encoded data removed]",
      "text/plain": [
       "<matplotlib.figure.Figure at 0x14e1b539f98>"
      ]
     },
     "metadata": {},
     "output_type": "display_data"
    }
   ],
   "source": [
    "# 3. Spread of Danceability\n",
    "\n",
    "danceability = df[['Genre', 'Danceability']]\n",
    "print(danceability.head())\n",
    "print(danceability.describe())\n",
    "      \n",
    "_ = sns.boxplot(danceability['Danceability'])"
   ]
  },
  {
   "cell_type": "markdown",
   "metadata": {},
   "source": [
    "We see that danceability overall varies a lot, from 0.00 to 0.98. But we also see that 50% of the songs are between 0.4 to about 0.7, while the rest spread across to the ends. Let us separate by genres and see how the _means_ are spread."
   ]
  },
  {
   "cell_type": "code",
   "execution_count": 96,
   "metadata": {},
   "outputs": [
    {
     "name": "stdout",
     "output_type": "stream",
     "text": [
      "625\n"
     ]
    }
   ],
   "source": [
    "def checkAndAdd(key, value, dictionary):\n",
    "    \"\"\"Function checks to see if the dictionary already has that key, and appends to the list accordingly\"\"\"\n",
    "    if key in dictionary:\n",
    "        dictionary[key].append(value)\n",
    "    else: \n",
    "        dictionary[key] = []\n",
    "        dictionary[key].append(value)\n",
    "\n",
    "genre_danceability = {}\n",
    "for index, row in danceability.iterrows():\n",
    "    genre = row['Genre']\n",
    "    dance = row['Danceability']\n",
    "    checkAndAdd(genre, dance, genre_danceability)\n",
    "    \n",
    "print(len(genre_danceability.keys()))\n",
    "\n",
    "# We're expecting no of keys to be 625"
   ]
  },
  {
   "cell_type": "code",
   "execution_count": 111,
   "metadata": {},
   "outputs": [
    {
     "name": "stdout",
     "output_type": "stream",
     "text": [
      "            Genre  Danceability Means\n",
      "0     celticmetal            0.431348\n",
      "1      balkantrap            0.712968\n",
      "2      slovakrock            0.563359\n",
      "3   deepchill-out            0.656008\n",
      "4  ghanaianhiphop            0.728909\n",
      "       Danceability Means\n",
      "count          625.000000\n",
      "mean             0.543277\n",
      "std              0.130031\n",
      "min              0.124360\n",
      "25%              0.466306\n",
      "50%              0.547059\n",
      "75%              0.639500\n",
      "max              0.829373\n",
      "                     Genre  Danceability Means\n",
      "1               balkantrap            0.712968\n",
      "4           ghanaianhiphop            0.728909\n",
      "9           albanianhiphop            0.733178\n",
      "28              minimaldub            0.746057\n",
      "33            arabichiphop            0.703528\n",
      "37  undergroundlatinhiphop            0.731341\n",
      "60              darktechno            0.710190\n",
      "62        deepbrazilianpop            0.711056\n",
      "89               nuelectro            0.726848\n",
      "95           minimaltechno            0.741178\n",
      "\n",
      "Highly danceable genres:  70\n"
     ]
    }
   ],
   "source": [
    "# Compute averages for each genre\n",
    "\n",
    "danceMeans = pd.DataFrame(columns=['Genre', 'Danceability Means'])\n",
    "\n",
    "for key,values in genre_danceability.items():\n",
    "        danceMeans = danceMeans.append({'Genre' : key , 'Danceability Means' : np.mean(values)}, ignore_index=True)\n",
    "\n",
    "# Sample output\n",
    "print(danceMeans.head())\n",
    "\n",
    "print(danceMeans.describe())\n",
    "\n",
    "highlyDanceable = danceMeans[danceMeans['Danceability Means'] >= 0.7]\n",
    "print(highlyDanceable.head(10))\n",
    "print(\"\\nHighly danceable genres: \", len(highlyDanceable))\n",
    "    "
   ]
  },
  {
   "cell_type": "markdown",
   "metadata": {},
   "source": [
    "**Interpretation:** We see that the *Danceability* attribute has a very large spread, but a good majority exists between 0.4 and 0.7 - which are fairly danceable. We see that the genre means are spread out a little lesser. But the genres whose _means_ are 0.7 and above, are very danceable - and from a sample of 10 of them, we see that they logically fit that category."
   ]
  },
  {
   "cell_type": "markdown",
   "metadata": {},
   "source": [
    "#### 4. How much does the 'Instrumentalness' vary?\n",
    "\n",
    "It may be worth exploring how it relates with popularity and the genre, depending on how instrumentalness is spread. "
   ]
  },
  {
   "cell_type": "code",
   "execution_count": 120,
   "metadata": {},
   "outputs": [
    {
     "name": "stdout",
     "output_type": "stream",
     "text": [
      "         Genre  Instrumentalness  Popularity\n",
      "0  celticmetal          0.206000          55\n",
      "1  celticmetal          0.001910          21\n",
      "2  celticmetal          0.000000           2\n",
      "3  celticmetal          0.000111          50\n",
      "4  celticmetal          0.000000          22\n",
      "       Instrumentalness     Popularity\n",
      "count     121808.000000  121808.000000\n",
      "mean           0.236781      25.198961\n",
      "std            0.355858      22.474217\n",
      "min            0.000000       0.000000\n",
      "25%            0.000002       4.000000\n",
      "50%            0.001830      21.000000\n",
      "75%            0.532000      42.000000\n",
      "max            0.999000      96.000000\n"
     ]
    },
    {
     "data": {
      "image/png": "[encoded data removed]",
      "text/plain": [
       "<matplotlib.figure.Figure at 0x14e1b542ac8>"
      ]
     },
     "metadata": {},
     "output_type": "display_data"
    },
    {
     "data": {
      "image/png": "[encoded data removed]",
      "text/plain": [
       "<matplotlib.figure.Figure at 0x14e1b326cc0>"
      ]
     },
     "metadata": {},
     "output_type": "display_data"
    }
   ],
   "source": [
    "instrumentalness = df[['Genre', 'Instrumentalness', 'Popularity']]\n",
    "print(instrumentalness.head())\n",
    "print(instrumentalness.describe())\n",
    "      \n",
    "_ = sns.boxplot(instrumentalness['Instrumentalness'])\n",
    "plt.show()\n",
    "\n",
    "_ = plt.scatter(instrumentalness['Popularity'], instrumentalness['Instrumentalness'])\n",
    "_ = plt.xlabel(\"Popularity (0-100)\")\n",
    "_ = plt.ylabel(\"Instrumentalness (0-1)\")\n",
    "_ = plt.title(\"Popularity vs Instrumentalness\")\n",
    "plt.show()"
   ]
  },
  {
   "cell_type": "markdown",
   "metadata": {},
   "source": [
    "The scatter of instrumentalness against popularity did not yield anything useful, however, the boxplot of instrumentalness alone shows us how almost 75% of the data lies under 0.54. Let us explore this further by plotting the with the _means_ of the instrumentalness and popularity."
   ]
  },
  {
   "cell_type": "code",
   "execution_count": 134,
   "metadata": {},
   "outputs": [
    {
     "name": "stdout",
     "output_type": "stream",
     "text": [
      "625\n",
      "625\n",
      "                 Genre  Instrumentalness Means  Popularity Means\n",
      "0          celticmetal                0.217994         17.390013\n",
      "1           balkantrap                0.005586         30.161290\n",
      "2           slovakrock                0.001897         28.384615\n",
      "3        deepchill-out                0.269835         34.409594\n",
      "4       ghanaianhiphop                0.002709         47.636364\n",
      "5                 e6fi                0.203373         17.277778\n",
      "6              ostrock                0.037305         11.884615\n",
      "7          slovakindie                0.035745         30.189655\n",
      "8   persiantraditional                0.298809          6.859060\n",
      "9       albanianhiphop                0.006021         24.339721\n",
      "10         modernblues                0.076031         22.824011\n",
      "11         canadianpop                0.026402         30.670350\n",
      "12      portuguesefolk                0.095781         15.439640\n",
      "13          belgianpop                0.116615         21.304940\n",
      "14            runefolk                0.489561         32.303371\n",
      "15            psychill                0.750965         15.527742\n",
      "16          deepcomedy                0.000108          9.638037\n",
      "17               lapop                0.018481         50.254296\n",
      "18         balletclass                0.879980         18.548589\n",
      "19               khmer                0.127401         10.711207\n"
     ]
    },
    {
     "data": {
      "image/png": "[encoded data removed]",
      "text/plain": [
       "<matplotlib.figure.Figure at 0x14e1c94cb70>"
      ]
     },
     "metadata": {},
     "output_type": "display_data"
    },
    {
     "name": "stdout",
     "output_type": "stream",
     "text": [
      "                      Genre  Instrumentalness Means  Popularity Means\n",
      "15                 psychill                0.750965         15.527742\n",
      "18              balletclass                0.879980         18.548589\n",
      "22               dronemetal                0.614282         17.516949\n",
      "28               minimaldub                0.810920         15.630790\n",
      "39                dronefolk                0.658786         15.118252\n",
      "45            deeplatinjazz                0.570618         13.764205\n",
      "60               darktechno                0.820688         17.639148\n",
      "75           organicambient                0.731838         18.954600\n",
      "84                 fluxwork                0.564114         19.823651\n",
      "90        psychedelictrance                0.725989         20.176768\n",
      "95            minimaltechno                0.834732         19.638184\n",
      "104           arpaparaguaya                0.710504          5.843575\n",
      "116                  nlfolk                0.564839         16.821429\n",
      "118     classicalpercussion                0.648292         14.059649\n",
      "122           glittertrance                0.677055         10.883721\n",
      "136        italianpost-rock                0.640187          2.112903\n",
      "138              microhouse                0.872803          8.685039\n",
      "143              animescore                0.805814         20.925234\n",
      "148                musicbox                0.567614         43.030769\n",
      "155  persianneo-traditional                0.789318          8.011111\n",
      "\n",
      "Highly instrumental genres:  101\n"
     ]
    }
   ],
   "source": [
    "instrumentalnessMeans = pd.DataFrame(columns=('Genre', 'Instrumentalness Means', 'Popularity Means'))\n",
    "\n",
    "genre_instrumentalness = {}\n",
    "genre_popularity = {}\n",
    "\n",
    "for index, row in instrumentalness.iterrows():\n",
    "    genre = row['Genre']\n",
    "    instru = row['Instrumentalness']\n",
    "    pop = row['Popularity']\n",
    "\n",
    "    checkAndAdd(genre, instru, genre_instrumentalness)\n",
    "    checkAndAdd(genre, pop, genre_popularity)\n",
    "\n",
    "# We're expecting no of keys to be 625\n",
    "print(len(genre_instrumentalness.keys()))\n",
    "print(len(genre_popularity.keys()))\n",
    "\n",
    "for key,values in genre_instrumentalness.items():\n",
    "    instruMean = np.mean(values)\n",
    "    popMean = np.mean(genre_popularity[key])\n",
    "    instrumentalnessMeans = instrumentalnessMeans.append({'Genre' : key, 'Instrumentalness Means' : instruMean, \n",
    "                                                          'Popularity Means' : popMean}, ignore_index=True)\n",
    "\n",
    "print(instrumentalnessMeans.head(20))\n",
    "\n",
    "_ = plt.scatter(instrumentalnessMeans['Popularity Means'], instrumentalnessMeans['Instrumentalness Means'])\n",
    "_ = plt.xlabel(\"Popularity Means (0-100)\")\n",
    "_ = plt.ylabel(\"Instrumentalness Means (0-1)\")\n",
    "_ = plt.title(\"Popularity vs Instrumentalness - Means\")\n",
    "plt.show()\n",
    "\n",
    "# Highly instrumental genres\n",
    "highlyInstru = instrumentalnessMeans[instrumentalnessMeans['Instrumentalness Means'] >= 0.54]\n",
    "print(highlyInstru.head(20))\n",
    "print(\"\\nHighly instrumental genres: \", len(highlyInstru))"
   ]
  },
  {
   "cell_type": "code",
   "execution_count": 135,
   "metadata": {},
   "outputs": [
    {
     "name": "stdout",
     "output_type": "stream",
     "text": [
      "\n",
      "The most instrumental genre is  Genre                     earlyromanticera\n",
      "Instrumentalness Means             0.92298\n",
      "Popularity Means                      9.11\n",
      "Name: 615, dtype: object\n",
      "\n",
      "The most popular of the highly instrumental genres is  Genre                     meditation\n",
      "Instrumentalness Means      0.874916\n",
      "Popularity Means             51.4122\n",
      "Name: 620, dtype: object\n"
     ]
    }
   ],
   "source": [
    "# Most instrumental genre\n",
    "print(\"\\nThe most instrumental genre is \", highlyInstru.loc[highlyInstru['Instrumentalness Means'].idxmax()])\n",
    "\n",
    "# Most popular of the highly instrumental genres\n",
    "print(\"\\nThe most popular of the highly instrumental genres is \", highlyInstru.loc[highlyInstru['Popularity Means'].idxmax()])"
   ]
  },
  {
   "cell_type": "markdown",
   "metadata": {},
   "source": [
    "**Interpretation:** We see that with the instrumentalness metric, we could see how it changes along with popularity and genre. After we isolated we started working with the _means_ across genre, for the instrumentalness and popularity metrics, the scatter makes a little more sense. We see that the scatter shows a strong population varying from very low to a reasonably high popularity, but retaining very little instrumentalness, while there is a scattered population of several other genres spread across a wide range of instrumentalness, but over a lower overall popularity of 30-40. \n",
    "\n",
    "Also, when we take a sample of the 1st 20 genres that are highly instrumental, we see that they logically fit, such as **_psychill_**, **_deeplatinjazz_** etc, which are known to be highly instrumental genres. \n",
    "\n",
    "Interestingly, the most instrumental genre in the dataset, **_earlyromanticera_**, has very **_low popularity_**, while the most popular genre that is also **_highly instrumental_** is **_meditation_**."
   ]
  },
  {
   "cell_type": "markdown",
   "metadata": {},
   "source": [
    "#### 5. Are there any songs that are NOT in a 4.0 'time_signature'?\n",
    "\n",
    "Songs that are not in 4.0 time signature are not very common, and it may be interesting to see how they are spread. \n",
    "\n",
    "Also, a potential exploration for later would be to see how they vary in popularity against the 4.0 time signature songs."
   ]
  },
  {
   "cell_type": "code",
   "execution_count": 174,
   "metadata": {},
   "outputs": [
    {
     "name": "stdout",
     "output_type": "stream",
     "text": [
      "           Name        Genre  time_signature  Popularity\n",
      "0    YuveYuveYu  celticmetal             4.0          55\n",
      "1   Gloryhammer  celticmetal             4.0          21\n",
      "2        Nostos  celticmetal             4.0           2\n",
      "3     Yggdrasil  celticmetal             4.0          50\n",
      "4  Incense&Iron  celticmetal             4.0          22\n",
      "121808\n",
      "                 Name        Genre  time_signature  Popularity\n",
      "16     ForgottenPaths  celticmetal             3.0          41\n",
      "18          TheReturn  celticmetal             3.0          42\n",
      "20        SonoftheSky  celticmetal             3.0          36\n",
      "21  FireBloodandSteel  celticmetal             3.0          39\n",
      "23     Fantasy\\sWings  celticmetal             3.0          42\n",
      "13101\n",
      "[3. 1. 5. 0.]\n",
      "10223\n",
      "585\n",
      "['celticmetal' 'balkantrap' 'deepchill-out' 'e6fi' 'ostrock']\n"
     ]
    },
    {
     "data": {
      "image/png": "[encoded data removed]",
      "text/plain": [
       "<matplotlib.figure.Figure at 0x14e5d52bf28>"
      ]
     },
     "metadata": {},
     "output_type": "display_data"
    },
    {
     "name": "stdout",
     "output_type": "stream",
     "text": [
      "31\n",
      "                                                   Name  \\\n",
      "10074                                  MilionYearSummer   \n",
      "10475                                        Soluppgång   \n",
      "10497                                              Yeah   \n",
      "13064  \\Zed\\\\\\sDeadBaby-DialogueExcerptFromPulpFiction\\   \n",
      "17399                               OpenupLettheLightIn   \n",
      "17840                                        TheBeatBox   \n",
      "19858                                             Mills   \n",
      "21295                                     CockaDoodleDo   \n",
      "24911                                       UnRatoncito   \n",
      "24921                                           LaVilla   \n",
      "\n",
      "                        Genre  time_signature  Popularity  \n",
      "10074              dronemetal             0.0          14  \n",
      "10475              dronemetal             0.0           0  \n",
      "10497              dronemetal             0.0           0  \n",
      "13064    mexicanrock-and-roll             0.0           0  \n",
      "17399                 worship             0.0          44  \n",
      "17840  undergroundlatinhiphop             0.0           0  \n",
      "19858                   zeuhl             0.0          25  \n",
      "21295                 sinhala             0.0          15  \n",
      "24911             spanishfolk             0.0           0  \n",
      "24921             spanishfolk             0.0           0  \n"
     ]
    },
    {
     "data": {
      "image/png": "[encoded data removed]",
      "text/plain": [
       "<matplotlib.figure.Figure at 0x14e01810c88>"
      ]
     },
     "metadata": {},
     "output_type": "display_data"
    }
   ],
   "source": [
    "time_sig = df[['Name', 'Genre', 'time_signature', 'Popularity']]\n",
    "print(time_sig.head())\n",
    "print(len(time_sig))\n",
    "\n",
    "nonStd_ts = time_sig[time_sig['time_signature'] != 4.0]\n",
    "print(nonStd_ts.head())\n",
    "print(len(nonStd_ts))\n",
    "\n",
    "ts_types = nonStd_ts.time_signature.unique()\n",
    "print(ts_types)\n",
    "print(len(nonStd_ts[nonStd_ts['time_signature'] == 3.0]))\n",
    "\n",
    "genre_types = nonStd_ts.Genre.unique()\n",
    "print(len(genre_types))\n",
    "# Sample of the genre types\n",
    "print(genre_types[0:5])\n",
    "\n",
    "_ = sns.distplot(nonStd_ts['time_signature'], hist=True)\n",
    "_ = plt.ylabel('Scaled Frequency')\n",
    "_ = plt.title('Frequency of time signature occurences')\n",
    "plt.show()\n",
    "\n",
    "zero_ts = nonStd_ts[nonStd_ts['time_signature'] == 0.0]\n",
    "print(len(zero_ts))\n",
    "print(zero_ts[0:10])\n",
    "\n",
    "_ = sns.violinplot(x='time_signature', y='Popularity', data=nonStd_ts)\n",
    "_ = plt.title(\"Variation of Popularity with Non-Standard Time Signatures\")\n",
    "plt.show()"
   ]
  },
  {
   "cell_type": "markdown",
   "metadata": {},
   "source": [
    "**Interpretation:** We see that there seem to be 13101 songs out of 121808, that are not in the standard 4.0 time signature and they are spread across a wide variety of genres - 585 (out of the total 625). \n",
    "\n",
    "**So, the non-standard time signatures do not seem to be genre-specific.**\n",
    "\n",
    "Of all the non-std time signatures, the _**3.0**_ seems to be the most frequent occurrence. As evidenced by the histogram, it seems to be present almost _**25 times**_ as much as the _**1.0**_ and over _**5 times**_ as much as the _**5.0**_. \n",
    "\n",
    "Interestingly, there is also a _**0.0**_ time signature that occurs _**31 times**_ in the dataset. It is spread across a variety of genres and is most likely a Spotify-introduced data error. \n",
    "\n",
    "All the non-standard time signatures seem to show increase in popularities as it goes from _**0.0**_ to _**5.0**_, with _**3.0**_ and _**5.0**_ having very similar distributions with a similar median and IQR."
   ]
  },
  {
   "cell_type": "markdown",
   "metadata": {},
   "source": [
    "#### 6. How much does the 'Tempo' vary?\n",
    "\n",
    "It would be interesting to see the range of tempos in this data set. A later exploration would also be to see if popularity changes with tempo in any way."
   ]
  },
  {
   "cell_type": "code",
   "execution_count": 171,
   "metadata": {},
   "outputs": [
    {
     "name": "stdout",
     "output_type": "stream",
     "text": [
      "                   Name             Genre    Tempo  Popularity\n",
      "121810            Youth  britishindierock  127.741          44\n",
      "121811        IFoundOut  britishindierock  146.986           1\n",
      "121812           Animal  britishindierock  139.574           0\n",
      "121813  PostBreak-UpSex  britishindierock  136.883          59\n",
      "121814     WantYouSoBad  britishindierock  176.068          37\n",
      "               Tempo     Popularity\n",
      "count  121808.000000  121808.000000\n",
      "mean      121.945146      25.198961\n",
      "std        28.957195      22.474217\n",
      "min         0.000000       0.000000\n",
      "25%        99.988000       4.000000\n",
      "50%       121.015000      21.000000\n",
      "75%       139.939000      42.000000\n",
      "max       248.066000      96.000000\n"
     ]
    },
    {
     "data": {
      "image/png": "[encoded data removed]",
      "text/plain": [
       "<matplotlib.figure.Figure at 0x14e5f50ce10>"
      ]
     },
     "metadata": {},
     "output_type": "display_data"
    },
    {
     "data": {
      "image/png": "[encoded data removed]",
      "text/plain": [
       "<matplotlib.figure.Figure at 0x14e734f5438>"
      ]
     },
     "metadata": {},
     "output_type": "display_data"
    }
   ],
   "source": [
    "tempo = df[['Name','Genre', 'Tempo', 'Popularity']]\n",
    "print(tempo.tail())\n",
    "print(tempo.describe())\n",
    "\n",
    "_ = sns.boxplot(tempo['Tempo'])\n",
    "plt.show()\n",
    "\n",
    "_ = plt.scatter(tempo['Tempo'], tempo['Popularity'])\n",
    "_ = plt.xlabel('Tempo')\n",
    "_ = plt.ylabel('Popularity')\n",
    "_ = plt.title('Popularity vs Tempo')\n",
    "plt.show()"
   ]
  },
  {
   "cell_type": "markdown",
   "metadata": {},
   "source": [
    "**Interpretation:** The tempo metric signifies the BPM across the whole song on average, according to Spotify. From the box plot we see that the middle 50% is spread between 99 and 140. \n",
    "\n",
    "Popularity does not seem to vary in any particular way with Tempo."
   ]
  },
  {
   "cell_type": "markdown",
   "metadata": {},
   "source": [
    "#### 7. Does there exist any correlation between 'Danceability' and 'Energy' for a song? and vice-versa? (Can probably be plotted)\n",
    "\n",
    "According to Spotify, the Energy metric is a perceptual measure of intensity and activity. We could see how the Energy varies with Danceability.\n",
    "We could do the actual correlation in the EDA notebook."
   ]
  },
  {
   "cell_type": "code",
   "execution_count": 182,
   "metadata": {},
   "outputs": [
    {
     "name": "stdout",
     "output_type": "stream",
     "text": [
      "                   Name  Danceability  Energy\n",
      "121810            Youth         0.568   0.708\n",
      "121811        IFoundOut         0.470   0.909\n",
      "121812           Animal         0.272   0.918\n",
      "121813  PostBreak-UpSex         0.402   0.902\n",
      "121814     WantYouSoBad         0.482   0.839\n",
      "        Danceability         Energy\n",
      "count  121808.000000  121808.000000\n",
      "mean        0.552998       0.648142\n",
      "std         0.183774       0.246486\n",
      "min         0.000000       0.000000\n",
      "25%         0.430000       0.486000\n",
      "50%         0.566000       0.690000\n",
      "75%         0.693000       0.853000\n",
      "max         0.988000       1.000000\n"
     ]
    },
    {
     "data": {
      "image/png": "[encoded data removed]",
      "text/plain": [
       "<matplotlib.figure.Figure at 0x14e7529c278>"
      ]
     },
     "metadata": {},
     "output_type": "display_data"
    },
    {
     "data": {
      "image/png": "[encoded data removed]",
      "text/plain": [
       "<matplotlib.figure.Figure at 0x14e4baa84a8>"
      ]
     },
     "metadata": {},
     "output_type": "display_data"
    }
   ],
   "source": [
    "metrics1 = df[['Name', 'Danceability', 'Energy']]\n",
    "print(metrics1.tail())\n",
    "print(metrics1.describe())\n",
    "\n",
    "_ = sns.boxplot(metrics1.Energy)\n",
    "plt.show()\n",
    "\n",
    "_ = plt.scatter(metrics1.Danceability, metrics1.Energy)\n",
    "_ = plt.xlabel('Danceability')\n",
    "_ = plt.ylabel('Energy')\n",
    "_ = plt.title('Energy vs Danceability')\n",
    "plt.show()"
   ]
  },
  {
   "cell_type": "markdown",
   "metadata": {},
   "source": [
    "**Interpretation:** Though the summary statistics of Danceability and Energy seem to suggest that data lie in similar IQR ranges, the individual data points themselves do not seem to follow any specific pattern with each other. "
   ]
  },
  {
   "cell_type": "markdown",
   "metadata": {},
   "source": [
    "#### 8. Does there exist any correlation between 'Speechiness' and 'Instrumentalness'? (Can probably be plotted)\n",
    "\n",
    "Would be interesting to see if these are anti-correlated in some way"
   ]
  },
  {
   "cell_type": "code",
   "execution_count": 183,
   "metadata": {},
   "outputs": [
    {
     "name": "stdout",
     "output_type": "stream",
     "text": [
      "                   Name  Instrumentalness  Speechness\n",
      "121810            Youth          0.000528      0.0601\n",
      "121811        IFoundOut          0.000000      0.0546\n",
      "121812           Animal          0.009200      0.0625\n",
      "121813  PostBreak-UpSex          0.004650      0.0469\n",
      "121814     WantYouSoBad          0.244000      0.1000\n",
      "       Instrumentalness     Speechness\n",
      "count     121808.000000  121808.000000\n",
      "mean           0.236781       0.083429\n",
      "std            0.355858       0.099541\n",
      "min            0.000000       0.000000\n",
      "25%            0.000002       0.036100\n",
      "50%            0.001830       0.048500\n",
      "75%            0.532000       0.083200\n",
      "max            0.999000       0.966000\n"
     ]
    },
    {
     "data": {
      "image/png": "[encoded data removed]",
      "text/plain": [
       "<matplotlib.figure.Figure at 0x14e4a9dbd68>"
      ]
     },
     "metadata": {},
     "output_type": "display_data"
    },
    {
     "data": {
      "image/png": "[encoded data removed]",
      "text/plain": [
       "<matplotlib.figure.Figure at 0x14e7ddace48>"
      ]
     },
     "metadata": {},
     "output_type": "display_data"
    }
   ],
   "source": [
    "metrics2 = df[['Name', 'Instrumentalness', 'Speechness']]\n",
    "print(metrics2.tail())\n",
    "print(metrics2.describe())\n",
    "\n",
    "_ = sns.boxplot(metrics2.Speechness)\n",
    "plt.show()\n",
    "\n",
    "_ = plt.scatter(metrics2.Instrumentalness, metrics2.Speechness)\n",
    "_ = plt.xlabel('Instrumentalness')\n",
    "_ = plt.ylabel('Speechness')\n",
    "_ = plt.title('Speechness vs Instrumentalness')\n",
    "plt.show()"
   ]
  },
  {
   "cell_type": "markdown",
   "metadata": {},
   "source": [
    "**Interpretation:** Speechness seems to be spread over a small range under _**0.2**_, with outlier data points. The scatter shows a large population that varies a lot in _**instrumentalness**_ but varies only between _**0.0**_ and _**0.4**_ in _**speechness**_. Most of the data set is not very speechy. "
   ]
  },
  {
   "cell_type": "markdown",
   "metadata": {},
   "source": [
    "#### 9. Does there exist any correlation between 'Genre' and 'Popularity'?"
   ]
  },
  {
   "cell_type": "code",
   "execution_count": 190,
   "metadata": {},
   "outputs": [
    {
     "name": "stdout",
     "output_type": "stream",
     "text": [
      "          Popularity\n",
      "count  121808.000000\n",
      "mean       25.198961\n",
      "std        22.474217\n",
      "min         0.000000\n",
      "25%         4.000000\n",
      "50%        21.000000\n",
      "75%        42.000000\n",
      "max        96.000000\n"
     ]
    },
    {
     "data": {
      "image/png": "[encoded data removed]",
      "text/plain": [
       "<matplotlib.figure.Figure at 0x14e6cbe1710>"
      ]
     },
     "metadata": {},
     "output_type": "display_data"
    },
    {
     "name": "stdout",
     "output_type": "stream",
     "text": [
      "4632\n",
      "279\n",
      "['celticmetal' 'balkantrap' 'deepchill-out' 'ghanaianhiphop' 'ostrock'\n",
      " 'albanianhiphop' 'modernblues' 'canadianpop' 'belgianpop' 'lapop'\n",
      " 'balletclass' 'groovemetal' 'pianoblues' 'dreampop' 'swedishindiepop'\n",
      " 'undergroundpowerpop' 'sungpoetry' 'mexicanrock-and-roll' 'belgianmetal'\n",
      " 'raregroove' 'newrave' 'japanesedeathmetal' 'gothicmetal' 'worship'\n",
      " 'undergroundlatinhiphop' 'norwegianmetal' 'zeuhl' 'oratory' 'mathpop'\n",
      " 'romanianfolk' 'alternativeamericana' 'birminghamindie' 'bostonmetal'\n",
      " 'go-go' 'tropicalhouse' 'spanishfolk' 'canadianrock' 'country'\n",
      " 'liverpoolindie' 'gabba' 'substep' 'mandepop' 'doo-wop' 'salsa'\n",
      " 'deepbrazilianpop' 'torontoindie' 'messianicpraise' 'blues-rock'\n",
      " 'psychedelicfolk' 'reggaerock' 'germanhardcore' 'hongkongindie'\n",
      " 'germanoi' 'organicambient' 'scratch' 'reading' 'beats' 'v-pop'\n",
      " 'funkrock' 'fluxwork' 'alaskaindie' 'deepdeephouse' 'nuelectro'\n",
      " 'jazzfusion' 'vaporpop' 'minimaltechno' 'danishpoprock' 'muzicacrestina'\n",
      " 'metalguitar' 'hardglam' 'dmvrap' 'vintageradioshow'\n",
      " 'italianundergroundhiphop' 'finnishhiphop' 'swedishsoul' 'channelpop'\n",
      " 'bmore' 'hiphop' 'ukpop' 'electrolatino' 'portugueseindie' 'christianpop'\n",
      " 'noisepunk' 'experimentalhouse' 'norwegianhiphop' 'deeppoppunk'\n",
      " 'reggaeton' 'frenchhiphop' 'musiqueacadienne' 'ukamericana' 'deepccm'\n",
      " 'r&bbrasileiro' 'detroitindie' 'showtunes' 'dubstep' 'steelguitar'\n",
      " 'experimentalpsych' 'neuedeutschewelle' 'gauzepop' 'shanty' 'christmas'\n",
      " 'chiphop' 'musikanak-anak' 'scorecore' 'geekrock' 'ambeat' 'mallet'\n",
      " 'salsainternational' 'canteflamenco' 'welshchoir' 'pixie' 'indietico'\n",
      " 'albuquerqueindie' 'grungepop' 'experimentalhiphop' 'russianjazz' 'edm'\n",
      " 'skyroom' 'austrianhiphop' 'focus' 'deepeurodance' 'popedm' 'vocaljazz'\n",
      " 'greekhouse' 'ukpost-punk' 'classicsoundtrack' 'mexicanedm'\n",
      " 'deepsoundtrack' 'renaissance' 'trapfrancais' 'countrydawn'\n",
      " 'moderncountryrock' 'albertacountry' 'venezuelanhiphop' 'latinmetal'\n",
      " 'glitchbeats' 'norwegiandeathmetal' 'darkpost-punk' 'cyberpunk'\n",
      " 'colombianindie' 'wrock' 'brazilianelectronica' 'swissindie'\n",
      " 'brightonindie' 'musiikkialapsille' 'icelandicindie' 'bouncyhouse'\n",
      " 'lowercase' 'dancerock' 'danishindiepop' 'rapmetalcore' 'okindie'\n",
      " 'jerseyclub' 'darkcabaret' 'classify' 'swisscountry' 'popemo'\n",
      " 'welshmetal' 'mexicanpoppunk' 'alternativeemo' 'futureambient'\n",
      " 'portuguesepop' 'leedsindie' 'trikiti' 'vaporsoul' 'guitarcase'\n",
      " 'outerhiphop' 'neosoul-jazz' 'deepsoftrock' 'newromantic' 'emorap'\n",
      " 'madchester' 'bedroompop' 'hiphouse' 'deepgroovehouse' 'indiegaragerock'\n",
      " 'indonesianhiphop' 'vegasindie' 'frenchpunk' 'deepindierock' 'darktrap'\n",
      " 'earlymusic' 'danishpop' 'portugueserock' 'milanindie' 'celtic'\n",
      " 'nuevacancion' 'classicalguitarquartet' 'hardminimaltechno'\n",
      " 'polynesianpop' 'gothicrock' 'hungarianpunk' 'ukalternativepop'\n",
      " 'sunsetlounge' 'dallasindie' 'psychedelicblues-rock' 'dancepop'\n",
      " 'italianindiepop' 'rocktico' 'michiganindie' 'soul' 'germanpost-rock'\n",
      " 'quietstorm' 'garagerock' 'seattleindie' 'phoenixindie' 'polyphony'\n",
      " 'psychedelicrock' 'classicswedishpop' 'germanjazz' 'alternativer&b'\n",
      " 'germanrenaissance' 'rocknacional' 'newjackswing' 'idahoindie' 'rock'\n",
      " 'dublinindie' 'cubaton' 'porro' 'peruvianhiphop' 'swedishpoppunk'\n",
      " 'aussieemo' 'electronica' 'schoolensemble' 'urbancontemporary'\n",
      " 'classicsoul' 'protopunk' 'brazilianska' 'j-dance' 'popping'\n",
      " 'indieemorock' 'newwavepop' 'europop' 'indiepoptimism' 'r&b'\n",
      " 'melbourneindie' 'deepdisco' 'americanfolkrevival' 'acousticpunk'\n",
      " 'germantechno' 'contemporaryjazz' 'girlgroup' 'australianrock' 'novampb'\n",
      " 'sydneyindie' 'stlindie' 'hippop' 'poprap' 'australianundergroundhiphop'\n",
      " 'italianhiphop' 'classicgaragerock' 'australianindiefolk' 'medievalrock'\n",
      " 'post-romanticera' 'portlandhiphop' 'mellowgold' 'koreanpop'\n",
      " 'alternativerootsrock' 'chansonpaillarde' 'nordichouse' 'rhythmandblues'\n",
      " 'handsup' 'thrashmetal' 'regionalmexicanpop' 'manitobacountry'\n",
      " 'spaceambient' 'deepsouthernsoul' 'rapmetal' 'j-rap' 'eurovision'\n",
      " 'southernrock' 'mpb' 'undergroundrap' 'thrashcore' 'bossanovajazz'\n",
      " 'deepdancepop' 'brazilianreggae' 'meditation' 'britishindierock']\n"
     ]
    }
   ],
   "source": [
    "genre_pop = df[['Genre', 'Popularity']]\n",
    "print(genre_pop.describe())\n",
    "\n",
    "# Spread of popularity\n",
    "_ = sns.boxplot(genre_pop['Popularity'])\n",
    "plt.show()\n",
    "\n",
    "# Top popularities - >70\n",
    "tops = genre_pop[genre_pop['Popularity'] >= 70]\n",
    "print(len(tops))\n",
    "top_uniques = tops.Genre.unique()\n",
    "print(len(top_uniques))\n",
    "\n",
    "print(top_uniques)"
   ]
  },
  {
   "cell_type": "markdown",
   "metadata": {},
   "source": [
    "**Interpretation:** _**279**_ out of _**625**_ genres seem to be our definition of _**top (>70)**_. And on visual inspection, they don't seem to be specific to only a few related genres. They seem to be spread across various parent genres. So there doesn't seem to be any strong correlation between the genre and popularity."
   ]
  },
  {
   "cell_type": "markdown",
   "metadata": {},
   "source": [
    "#### 10. How much does the 'Popularity' measure vary?"
   ]
  },
  {
   "cell_type": "markdown",
   "metadata": {},
   "source": [
    "Answered within the previous question"
   ]
  },
  {
   "cell_type": "markdown",
   "metadata": {},
   "source": [
    "**Interpretation:** 75% of the data lies under a popularity rating 43. "
   ]
  },
  {
   "cell_type": "markdown",
   "metadata": {},
   "source": [
    "#### 11. How many 'Genres' seem to show very low popularity?\n",
    "\n",
    "Let us define that anything below a popularity of 20 and below are very low."
   ]
  },
  {
   "cell_type": "code",
   "execution_count": 192,
   "metadata": {},
   "outputs": [
    {
     "name": "stdout",
     "output_type": "stream",
     "text": [
      "           Genre  Popularity\n",
      "2    celticmetal           2\n",
      "22   celticmetal           1\n",
      "25   celticmetal          12\n",
      "30   celticmetal           1\n",
      "32   celticmetal          12\n",
      "50   celticmetal           1\n",
      "52   celticmetal          12\n",
      "60   celticmetal          17\n",
      "61   celticmetal          20\n",
      "66   celticmetal           0\n",
      "68   celticmetal          20\n",
      "72   celticmetal           0\n",
      "74   celticmetal           0\n",
      "75   celticmetal           0\n",
      "77   celticmetal           0\n",
      "79   celticmetal           0\n",
      "81   celticmetal           0\n",
      "85   celticmetal           0\n",
      "88   celticmetal           0\n",
      "90   celticmetal           0\n",
      "91   celticmetal           0\n",
      "92   celticmetal           0\n",
      "94   celticmetal          16\n",
      "95   celticmetal          12\n",
      "96   celticmetal           0\n",
      "99   celticmetal           0\n",
      "100  celticmetal           0\n",
      "101  celticmetal           0\n",
      "104  celticmetal           0\n",
      "105  celticmetal           0\n",
      "622\n"
     ]
    }
   ],
   "source": [
    "# lows\n",
    "\n",
    "lows = genre_pop[genre_pop['Popularity'] <= 20]\n",
    "print(lows.head(30))\n",
    "\n",
    "lows_unique = lows.Genre.unique()\n",
    "print(len(lows_unique))\n"
   ]
  },
  {
   "cell_type": "markdown",
   "metadata": {},
   "source": [
    "**Interpretation:** There are songs of many of the same genres belonging to both high and low popularity groups. In this case some of the lowest ones include _**celticmetal**_"
   ]
  },
  {
   "cell_type": "markdown",
   "metadata": {},
   "source": [
    "**Summary:** We found a few interesting things worth possibly exploring further in this data set. The salient features ofthis analysis area as below:\n",
    "\n",
    "1. Over 121808 songs, there are 625 unique genres in this data set and they separate quite well in the number of songs that each genre has.\n",
    "\n",
    "2. We explored a number of other characteristics such as _Danceability_, _Instrumentalness_, _Time Signature_, _Tempo_ etc. and also further explored how some of these vary with _Genre_ and _Popularity_.\n",
    "\n",
    "3. For _Danceability_, we saw that 75% of the data was contained under 0.7 and while working with the mean of this metric across _Genre_, we saw that a good 70 genres were \"highly danceable\" (>0.7)\n",
    "\n",
    "4. For _Instrumentalness_, after we worked with the genre means we saw that there is a population that varied in popularity from 0-60 but was overall low in instrumentalness. And we had 101 highly instrumental genres. We also varied this with popularity. We saw that the most instrumental genre had very low popularity - _earlyromanticera_. And the most popular of the highly instrumental genres was _meditation_.\n",
    "\n",
    "5. For _Time Signatures_, we saw that there were a good _13101 songs_ with non-standard time signatures (not 4.0). These did not separate well on genres, and included _585_ out of the _625 genres_ in the 13101 songs. Of these songs, _3.0_ and _5.0_ were the most frequently occurring and also had _similar distributions, medians and IQR_, as evidenced by the violin plot.\n",
    "\n",
    "6. For _Tempo_, the data was spread roughly between 40 and 200, with some outliers. It did not vary distinctly with popularity. \n",
    "\n",
    "7. _Danceability_ and _Energy_ did not vary distinctly.\n",
    "\n",
    "8. The scatter of _Speechness_ and _Instrumentalness_, shows a distinct population which ranges from _0.0 to 0.4_ in _Speechness_ while varying from _0.0 through 1.0_ in _Instrumentalness_. This seems to be the majority of the data. So it doesn't vary distinctly with instrumentalness.\n",
    "\n",
    "9. The metric of _Popularity_ by itself is spread across from 0-100, 75% of the data falls under 43. And it doesn't seem tobe spread across any specific genre distinctly. Some of the lowest genres include _celticmetal_, which shows values of _0_, implying that it was not listened to at all during that week. "
   ]
  },
  {
   "cell_type": "code",
   "execution_count": null,
   "metadata": {},
   "outputs": [],
   "source": []
  }
 ],
 "metadata": {
  "kernelspec": {
   "display_name": "Python 3",
   "language": "python",
   "name": "python3"
  },
  "language_info": {
   "codemirror_mode": {
    "name": "ipython",
    "version": 3
   },
   "file_extension": ".py",
   "mimetype": "text/x-python",
   "name": "python",
   "nbconvert_exporter": "python",
   "pygments_lexer": "ipython3",
   "version": "3.6.4"
  }
 },
 "nbformat": 4,
 "nbformat_minor": 2
}
