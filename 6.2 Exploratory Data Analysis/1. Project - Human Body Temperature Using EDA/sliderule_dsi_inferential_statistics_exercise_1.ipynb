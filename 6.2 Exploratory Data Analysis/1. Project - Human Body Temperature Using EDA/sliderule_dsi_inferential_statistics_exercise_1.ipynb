{
 "cells": [
  {
   "cell_type": "markdown",
   "metadata": {},
   "source": [
    "# What is the True Normal Human Body Temperature? \n",
    "\n",
    "#### Background\n",
    "\n",
    "The mean normal body temperature was held to be 37$^{\\circ}$C or 98.6$^{\\circ}$F for more than 120 years since it was first conceptualized and reported by Carl Wunderlich in a famous 1868 book. But, is this value statistically correct?"
   ]
  },
  {
   "cell_type": "markdown",
   "metadata": {},
   "source": [
    "<h3>Exercises</h3>\n",
    "\n",
    "<p>In this exercise, you will analyze a dataset of human body temperatures and employ the concepts of hypothesis testing, confidence intervals, and statistical significance.</p>\n",
    "\n",
    "<p>Answer the following questions <b>in this notebook below and submit to your Github account</b>.</p> \n",
    "\n",
    "<ol>\n",
    "<li>  Is the distribution of body temperatures normal? \n",
    "    <ul>\n",
    "    <li> Although this is not a requirement for the Central Limit Theorem to hold (read the introduction on Wikipedia's page about the CLT carefully: https://en.wikipedia.org/wiki/Central_limit_theorem), it gives us some peace of mind that the population may also be normally distributed if we assume that this sample is representative of the population.\n",
    "    <li> Think about the way you're going to check for the normality of the distribution. Graphical methods are usually used first, but there are also other ways: https://en.wikipedia.org/wiki/Normality_test\n",
    "    </ul>\n",
    "<li>  Is the sample size large? Are the observations independent?\n",
    "    <ul>\n",
    "    <li> Remember that this is a condition for the Central Limit Theorem, and hence the statistical tests we are using, to apply.\n",
    "    </ul>\n",
    "<li>  Is the true population mean really 98.6 degrees F?\n",
    "    <ul>\n",
    "    <li> First, try a bootstrap hypothesis test.\n",
    "    <li> Now, let's try frequentist statistical testing. Would you use a one-sample or two-sample test? Why?\n",
    "    <li> In this situation, is it appropriate to use the $t$ or $z$ statistic? \n",
    "    <li> Now try using the other test. How is the result be different? Why?\n",
    "    </ul>\n",
    "<li>  Draw a small sample of size 10 from the data and repeat both frequentist tests. \n",
    "    <ul>\n",
    "    <li> Which one is the correct one to use? \n",
    "    <li> What do you notice? What does this tell you about the difference in application of the $t$ and $z$ statistic?\n",
    "    </ul>\n",
    "<li>  At what temperature should we consider someone's temperature to be \"abnormal\"?\n",
    "    <ul>\n",
    "    <li> As in the previous example, try calculating everything using the boostrap approach, as well as the frequentist approach.\n",
    "    <li> Start by computing the margin of error and confidence interval. When calculating the confidence interval, keep in mind that you should use the appropriate formula for one draw, and not N draws.\n",
    "    </ul>\n",
    "<li>  Is there a significant difference between males and females in normal temperature?\n",
    "    <ul>\n",
    "    <li> What testing approach did you use and why?\n",
    "    <li> Write a story with your conclusion in the context of the original problem.\n",
    "    </ul>\n",
    "</ol>\n",
    "\n",
    "You can include written notes in notebook cells using Markdown: \n",
    "   - In the control panel at the top, choose Cell > Cell Type > Markdown\n",
    "   - Markdown syntax: http://nestacms.com/docs/creating-content/markdown-cheat-sheet\n",
    "\n",
    "#### Resources\n",
    "\n",
    "+ Information and data sources: http://www.amstat.org/publications/jse/datasets/normtemp.txt, http://www.amstat.org/publications/jse/jse_data_archive.htm\n",
    "+ Markdown syntax: http://nestacms.com/docs/creating-content/markdown-cheat-sheet\n",
    "\n",
    "****"
   ]
  },
  {
   "cell_type": "code",
   "execution_count": 78,
   "metadata": {},
   "outputs": [],
   "source": [
    "import pandas as pd\n",
    "\n",
    "df = pd.read_csv('data/human_body_temperature.csv')"
   ]
  },
  {
   "cell_type": "markdown",
   "metadata": {
    "collapsed": true
   },
   "source": [
    "#### Your work here.\n",
    "\n",
    "Try:\n",
    "Plot:\n",
    "HIstograms\n",
    "Beeswarm plots (seaborn) sns.swarmplot(x,y,data=df)\n",
    "ECDFs (regyular plt.plot)\n",
    "\n",
    "calculate:\n",
    "mean (can overlay over beeswarm ployt (np.mean))\n",
    "median/percenyiles (np.percentile - can be overlayed on an ECDF\n",
    "\n",
    "box plots (shows percentiles) -> sns.boxplot(same as swarmplot)\n",
    "variance and std/dev -> np.var, np.std/np.sqrt(np.var)\n",
    "scatter plots\n",
    "covariance and correlation coeff\n",
    "\n",
    "calucalte:\n",
    "probabilities - using hacker stats - np.random.random()\n",
    "bernoulli's trials\n",
    "binomial dist - np.randpom.binomial"
   ]
  },
  {
   "cell_type": "code",
   "execution_count": 79,
   "metadata": {},
   "outputs": [
    {
     "name": "stdout",
     "output_type": "stream",
     "text": [
      "   temperature gender  heart_rate\n",
      "0         99.3      F        68.0\n",
      "1         98.4      F        81.0\n",
      "2         97.8      M        73.0\n",
      "3         99.2      F        66.0\n",
      "4         98.0      F        73.0\n",
      "\n",
      " (130, 3)\n",
      "\n",
      "        temperature  heart_rate\n",
      "count   130.000000  130.000000\n",
      "mean     98.249231   73.761538\n",
      "std       0.733183    7.062077\n",
      "min      96.300000   57.000000\n",
      "25%      97.800000   69.000000\n",
      "50%      98.300000   74.000000\n",
      "75%      98.700000   79.000000\n",
      "max     100.800000   89.000000\n",
      "<class 'pandas.core.frame.DataFrame'>\n",
      "RangeIndex: 130 entries, 0 to 129\n",
      "Data columns (total 3 columns):\n",
      "temperature    130 non-null float64\n",
      "gender         130 non-null object\n",
      "heart_rate     130 non-null float64\n",
      "dtypes: float64(2), object(1)\n",
      "memory usage: 3.1+ KB\n",
      "\n",
      " None\n",
      "\n",
      " temperature    98.249231\n",
      "heart_rate     73.761538\n",
      "Name: mean, dtype: float64\n"
     ]
    }
   ],
   "source": [
    "print(df.head())\n",
    "print(\"\\n\", df.shape)\n",
    "sumstats = df.describe()\n",
    "print(\"\\n\", sumstats)\n",
    "print(\"\\n\", df.info())\n",
    "print(\"\\n\", sumstats.loc['mean'])"
   ]
  },
  {
   "cell_type": "code",
   "execution_count": 80,
   "metadata": {},
   "outputs": [
    {
     "data": {
      "image/png": "[encoded data removed]",
      "text/plain": [
       "<matplotlib.figure.Figure at 0x2066cbae080>"
      ]
     },
     "metadata": {},
     "output_type": "display_data"
    }
   ],
   "source": [
    "import matplotlib.pyplot as plt\n",
    "import seaborn as sns\n",
    "import numpy as np\n",
    "\n",
    "# square root rule for no. of bins\n",
    "n_bins = int(np.sqrt(df.shape[0]))\n",
    "\n",
    "_ = df.hist(bins = n_bins)\n",
    "plt.show()"
   ]
  },
  {
   "cell_type": "markdown",
   "metadata": {},
   "source": [
    "### 1. Is the distribution of body temperatures normal? \n",
    "\n",
    "We will attempt to answer this using Frequentist methods such as **Hypothesis Testing**.\n",
    "We will use the sample means as our test statistic.\n",
    "\n",
    "**Null Hypothesis, H<sub>0</sub>:** There is no difference between means of **Male** and **Female** body temperatures."
   ]
  },
  {
   "cell_type": "code",
   "execution_count": 81,
   "metadata": {},
   "outputs": [
    {
     "data": {
      "image/png": "[encoded data removed]",
      "text/plain": [
       "<matplotlib.figure.Figure at 0x2066cbbb358>"
      ]
     },
     "metadata": {},
     "output_type": "display_data"
    },
    {
     "data": {
      "image/png": "[encoded data removed]",
      "text/plain": [
       "<matplotlib.figure.Figure at 0x2066e984b38>"
      ]
     },
     "metadata": {},
     "output_type": "display_data"
    },
    {
     "data": {
      "image/png": "[encoded data removed]",
      "text/plain": [
       "<matplotlib.figure.Figure at 0x2066e9b26d8>"
      ]
     },
     "metadata": {},
     "output_type": "display_data"
    }
   ],
   "source": [
    "_ = sns.swarmplot(df['gender'], df['temperature'])\n",
    "_ = plt.xlabel('Gender')\n",
    "_ = plt.ylabel('Temperature')\n",
    "_ = plt.title('Temperatures among Males and Females')\n",
    "plt.show()\n",
    "\n",
    "_ = sns.boxplot(df['gender'], df['temperature'])\n",
    "_ = plt.xlabel('Gender')\n",
    "_ = plt.ylabel('Temperature')\n",
    "_ = plt.title('Temperatures among Males and Females')\n",
    "plt.show()\n",
    "\n",
    "# Arrays with Male temperatures\n",
    "x_valsm = np.sort(df.temperature[df['gender'] == 'M'])\n",
    "y_valsm = np.arange(0,len(x_valsm))/len(x_valsm)\n",
    "\n",
    "# Arrays with Female temperatures\n",
    "x_valsf = np.sort(df.temperature[df['gender'] == 'F'])\n",
    "y_valsf = np.arange(0,len(x_valsf))/len(x_valsf)\n",
    "\n",
    "_ = plt.plot(x_valsm, y_valsm, marker='.', linestyle = 'none', color='red')\n",
    "_ = plt.plot(x_valsf, y_valsf, marker='.', linestyle = 'none', color='blue')\n",
    "_ = plt.xlabel('Temperatures')\n",
    "_ = plt.ylabel('CDF')\n",
    "_ = plt.legend(('Males', 'Females'), loc='lower right')\n",
    "_ = plt.title('CDF of Temperatures')\n",
    "plt.show()"
   ]
  },
  {
   "cell_type": "markdown",
   "metadata": {},
   "source": [
    "* Based on the ecdf seen above for the Temperatures in both males and females, it looks like they may be Normally distributed.\n",
    "* There do seem to be some outliers in the Females' Temperature data."
   ]
  },
  {
   "cell_type": "code",
   "execution_count": 82,
   "metadata": {},
   "outputs": [
    {
     "data": {
      "image/png": "[encoded data removed]",
      "text/plain": [
       "<matplotlib.figure.Figure at 0x2066ea2d518>"
      ]
     },
     "metadata": {},
     "output_type": "display_data"
    },
    {
     "data": {
      "image/png": "[encoded data removed]",
      "text/plain": [
       "<matplotlib.figure.Figure at 0x2066e93d588>"
      ]
     },
     "metadata": {},
     "output_type": "display_data"
    },
    {
     "data": {
      "image/png": "[encoded data removed]",
      "text/plain": [
       "<matplotlib.figure.Figure at 0x2066ea0de48>"
      ]
     },
     "metadata": {},
     "output_type": "display_data"
    }
   ],
   "source": [
    "_ = sns.swarmplot(df['gender'], df['heart_rate'])\n",
    "_ = plt.xlabel('Gender')\n",
    "_ = plt.ylabel('Heart rates')\n",
    "_ = plt.title('Heart rates among Males and Females')\n",
    "plt.show()\n",
    "\n",
    "_ = sns.boxplot(df['gender'], df['heart_rate'])\n",
    "_ = plt.xlabel('Gender')\n",
    "_ = plt.ylabel('Heart rates')\n",
    "_ = plt.title('Heart rates among Males and Females')\n",
    "plt.show()\n",
    "\n",
    "# Arrays with Male heart rates\n",
    "x_valsm = np.sort(df.heart_rate[df['gender'] == 'M'])\n",
    "y_valsm = np.arange(0,len(x_valsm))/len(x_valsm)\n",
    "\n",
    "# Arrays with Female heart rates\n",
    "x_valsf = np.sort(df.heart_rate[df['gender'] == 'F'])\n",
    "y_valsf = np.arange(0,len(x_valsf))/len(x_valsf)\n",
    "\n",
    "_ = plt.plot(x_valsm, y_valsm, marker='.', linestyle = 'none', color='red')\n",
    "_ = plt.plot(x_valsf, y_valsf, marker='.', linestyle = 'none', color='blue')\n",
    "_ = plt.xlabel('Heart Rates')\n",
    "_ = plt.ylabel('CDF')\n",
    "_ = plt.legend(('Males', 'Females'), loc='lower right')\n",
    "_ = plt.title('CDF of Heart Rates')\n",
    "plt.show()"
   ]
  },
  {
   "cell_type": "markdown",
   "metadata": {},
   "source": [
    "* Based on the ecdf seen above of heart rates between male and female, they look to be normally distributed, but the female heart rates seem to vary over a wider range, and crosses over the male heart rate distribution."
   ]
  },
  {
   "cell_type": "code",
   "execution_count": 83,
   "metadata": {},
   "outputs": [
    {
     "name": "stdout",
     "output_type": "stream",
     "text": [
      "Mean of Male Temperatures:  98.1046153846154\n",
      "Mean of Female Temperatures:  98.39384615384613\n",
      "We will choose an alpha of \n",
      "-1.9492395704588628 0.9732730643351432\n",
      "-2.2854345381656103 0.02393188312239561\n",
      "We get a p-value of 0.02, so we reject the Null hypothesis - given our alpha is 0.05\n",
      "We accept the Alternate hypothesis that there is a difference in the means.\n"
     ]
    }
   ],
   "source": [
    "from scipy.stats import ttest_ind\n",
    "from scipy.stats import t\n",
    "\n",
    "# temperature means\n",
    "# Male\n",
    "temp_m = df.temperature[df['gender'] == 'M']\n",
    "N_m = len(temp_m)\n",
    "temp_mean_m = np.mean(temp_m)\n",
    "print(\"Mean of Male Temperatures: \", temp_mean_m)\n",
    "temp_std_m = np.std(temp_m)\n",
    "\n",
    "# Female\n",
    "temp_f = df.temperature[df['gender'] == 'F']\n",
    "N_f = len(temp_f)\n",
    "temp_mean_f = np.mean(temp_f)\n",
    "print(\"Mean of Female Temperatures: \", temp_mean_f)\n",
    "temp_std_f = np.std(temp_f)\n",
    "\n",
    "print(\"We will choose an alpha of \")\n",
    "\n",
    "degf = N_m + N_f - 2\n",
    "t1 = (temp_mean_m - temp_mean_f)/np.sqrt((temp_std_m/N_m)+(temp_std_f/N_f))\n",
    "p1 = 1 - t.cdf(t1,df=degf)\n",
    "print(t1, p1)\n",
    "\n",
    "# t and p-value using the scipy package\n",
    "t2, p2 = ttest_ind(temp_m, temp_f)\n",
    "\n",
    "print(t2, p2)\n",
    "print(\"We get a p-value of 0.02, so we reject the Null hypothesis - given our alpha is 0.05\")\n",
    "print(\"We accept the Alternate hypothesis that there is a difference in the means.\")"
   ]
  },
  {
   "cell_type": "markdown",
   "metadata": {},
   "source": [
    "### 2. Is the sample size large? Are the observations independent?"
   ]
  },
  {
   "cell_type": "markdown",
   "metadata": {},
   "source": [
    "Answers:\n",
    "* Yes, by CLT, since sample size is ? 30, we consider it a large sample size.\n",
    "* Yes, the Male and Female temperature observations are independent of each other, and each temperature observation are in themselves indepedent from the other ones.\n",
    "* The heart-rate and temperatures measure from each individual are not independent of each other. "
   ]
  },
  {
   "cell_type": "markdown",
   "metadata": {},
   "source": [
    "### 3. Is the true population mean really 98.6 degrees F?\n",
    "\n",
    "To do this we will run a boostrap hypothesis test."
   ]
  },
  {
   "cell_type": "code",
   "execution_count": 84,
   "metadata": {},
   "outputs": [],
   "source": [
    "# Bootstrap hypothesis test\n",
    "# Will use our data to sample and recreate a full dataset, the size of the origina. \n",
    "# We will repeat this a 100,000 times and plot a cdf. \n",
    "# Note that this will also be across Males and Females combined. No categoric differentiation.\n",
    "\n",
    "temps = df.temperature.values"
   ]
  },
  {
   "cell_type": "code",
   "execution_count": 85,
   "metadata": {},
   "outputs": [],
   "source": [
    "def bootstrappingEngine(data, func=np.mean):\n",
    "    \"\"\"Applies resampling to supplied data and calculates and returns the given \n",
    "    boostrap statistic specified by the supplied function, by default - mean\"\"\"\n",
    "    \n",
    "    resampled_arr = np.random.choice(data, size=len(data))\n",
    "    \n",
    "    return func(resampled_arr)"
   ]
  },
  {
   "cell_type": "code",
   "execution_count": 86,
   "metadata": {},
   "outputs": [],
   "source": [
    "# apply bootstrapping 100,000 times.\n",
    "\n",
    "resampled_means = []\n",
    "\n",
    "for i in np.arange(0, 100_000):\n",
    "    mean_i = bootstrappingEngine(temps, np.mean)\n",
    "    resampled_means.append(mean_i)"
   ]
  },
  {
   "cell_type": "code",
   "execution_count": 87,
   "metadata": {},
   "outputs": [
    {
     "data": {
      "text/plain": [
       "100000"
      ]
     },
     "execution_count": 87,
     "metadata": {},
     "output_type": "execute_result"
    }
   ],
   "source": [
    "len(resampled_means)"
   ]
  },
  {
   "cell_type": "code",
   "execution_count": 88,
   "metadata": {},
   "outputs": [
    {
     "data": {
      "text/plain": [
       "98.24940628461538"
      ]
     },
     "execution_count": 88,
     "metadata": {},
     "output_type": "execute_result"
    }
   ],
   "source": [
    "np.mean(resampled_means)"
   ]
  },
  {
   "cell_type": "code",
   "execution_count": 89,
   "metadata": {},
   "outputs": [],
   "source": [
    "def ecdf(data):\n",
    "    n = len(data)\n",
    "    x = np.sort(data)\n",
    "    y = np.arange(1, n+1)/n\n",
    "    return (x,y)"
   ]
  },
  {
   "cell_type": "code",
   "execution_count": 90,
   "metadata": {},
   "outputs": [
    {
     "data": {
      "image/png": "[encoded data removed]",
      "text/plain": [
       "<matplotlib.figure.Figure at 0x2066cb81080>"
      ]
     },
     "metadata": {},
     "output_type": "display_data"
    }
   ],
   "source": [
    "# Plotting the ecdf of the resampled means.\n",
    "X_means, Y_means = ecdf(resampled_means)\n",
    "_ = plt.plot(X_means, Y_means, marker='.', color='blue')\n",
    "_ = plt.xlabel('Temperature Means')\n",
    "_ = plt.ylabel('CDF')\n",
    "_ = plt.title('CDF of Heart Rates')\n",
    "plt.show()"
   ]
  },
  {
   "cell_type": "markdown",
   "metadata": {},
   "source": [
    "Based on resampling and boostrapping, the means definitely look to be normally distributed, with a lower extended tail, over sampling 100,000 times. "
   ]
  },
  {
   "cell_type": "markdown",
   "metadata": {},
   "source": [
    "However, we're not sure of the true population mean being 98.6 F, but the mean of our resampled data appears to be 98.25 F."
   ]
  },
  {
   "cell_type": "markdown",
   "metadata": {},
   "source": [
    "* We would use a **one-sample test** because we are comparing the \"sample\" mean to the \"population\" mean 98.6 F.\n",
    "* We would probably use the **t-statistic** for the following reasons:\n",
    "    * we don't know the population std dev, but we know the population mean.\n",
    "    * sample size is large enough, that normality assumptions are not as important anymore (even though they look to be normally distributed)."
   ]
  },
  {
   "cell_type": "code",
   "execution_count": 91,
   "metadata": {},
   "outputs": [
    {
     "name": "stdout",
     "output_type": "stream",
     "text": [
      "\n",
      " df:  129\n"
     ]
    }
   ],
   "source": [
    "# We have the following data:\n",
    "temps\n",
    "sample_mean = np.mean(temps)\n",
    "sample_std = np.std(temps)\n",
    "pop_mean = 98.6\n",
    "n = len(temps)\n",
    "df = n - 1 \n",
    "print(\"\\n df: \", df)"
   ]
  },
  {
   "cell_type": "code",
   "execution_count": 92,
   "metadata": {},
   "outputs": [
    {
     "data": {
      "text/plain": [
       "-5.4759252020785585"
      ]
     },
     "execution_count": 92,
     "metadata": {},
     "output_type": "execute_result"
    }
   ],
   "source": [
    "# calculating the t value\n",
    "t = (sample_mean - pop_mean)/(sample_std/np.sqrt(n))\n",
    "t"
   ]
  },
  {
   "cell_type": "markdown",
   "metadata": {},
   "source": [
    "the t critical value from the table = 1.658 approx. \n",
    "our value is way lower than that. So, in this case we accept the Null hypothesis: the sample mean does not differ from the population mean."
   ]
  },
  {
   "cell_type": "markdown",
   "metadata": {},
   "source": [
    "* Given that we are being asked to use **\"the other\"** test, we are supposed to use the **Z-statistic**, which we can use. Only that the population std dev will be an estimation from the sample std dev, since **sample size > 30**.\n",
    "* We will consider an alpha = 0.05"
   ]
  },
  {
   "cell_type": "code",
   "execution_count": 93,
   "metadata": {},
   "outputs": [
    {
     "data": {
      "text/plain": [
       "-5.4759252020785585"
      ]
     },
     "execution_count": 93,
     "metadata": {},
     "output_type": "execute_result"
    }
   ],
   "source": [
    "# calculating the Z value\n",
    "Z = (sample_mean - pop_mean)/(sample_std/np.sqrt(n))\n",
    "Z"
   ]
  },
  {
   "cell_type": "markdown",
   "metadata": {},
   "source": [
    "The Z-value also comes out to be the same value (as seen below, since we're using the sample's approximations).\n",
    "This is not a feasible value to look through the table. Clearly, this is not the statistic to choose for this test."
   ]
  },
  {
   "cell_type": "markdown",
   "metadata": {},
   "source": [
    "### 4. Draw a small sample of size 10 from the data and repeat both frequentist tests.\n",
    "* Which one is the correct one to use?\n",
    "* What do you notice? What does this tell you about the difference in application of the  𝑡  and  𝑧  statistic?"
   ]
  },
  {
   "cell_type": "markdown",
   "metadata": {},
   "source": [
    "This one again needs the t statistic since the sample size will be < 30.\n",
    "We will again use alpha = 0.05"
   ]
  },
  {
   "cell_type": "code",
   "execution_count": 100,
   "metadata": {},
   "outputs": [
    {
     "name": "stdout",
     "output_type": "stream",
     "text": [
      "[ 98.6  98.3  99.3  97.5  98.2 100.8  98.9  97.9  97.2  98.2]\n"
     ]
    },
    {
     "data": {
      "text/plain": [
       "98.49000000000001"
      ]
     },
     "execution_count": 100,
     "metadata": {},
     "output_type": "execute_result"
    }
   ],
   "source": [
    "# resampling for 10 values from the original data.\n",
    "resample_10 = np.random.choice(temps, size=10)\n",
    "print(resample_10)\n",
    "np.mean(resample_10)"
   ]
  },
  {
   "cell_type": "code",
   "execution_count": 101,
   "metadata": {},
   "outputs": [
    {
     "name": "stdout",
     "output_type": "stream",
     "text": [
      "\n",
      " df:  9\n"
     ]
    }
   ],
   "source": [
    "# We have the following data\n",
    "sample10_mean = np.mean(resample_10)\n",
    "sample10_std = np.std(resample_10)\n",
    "pop_mean = 98.6\n",
    "n = len(resample_10)\n",
    "df = n - 1 \n",
    "print(\"\\n df: \", df)"
   ]
  },
  {
   "cell_type": "code",
   "execution_count": 102,
   "metadata": {},
   "outputs": [
    {
     "data": {
      "text/plain": [
       "-0.35937351353829833"
      ]
     },
     "execution_count": 102,
     "metadata": {},
     "output_type": "execute_result"
    }
   ],
   "source": [
    "# calculating the t value\n",
    "t = (sample10_mean - pop_mean)/(sample10_std/np.sqrt(n))\n",
    "t"
   ]
  },
  {
   "cell_type": "markdown",
   "metadata": {},
   "source": [
    "t value from the table is 1.833, which is greater than our calculated t-value. So we again accept the Null hypothesis."
   ]
  },
  {
   "cell_type": "markdown",
   "metadata": {},
   "source": [
    "### 5. At what temperature should we consider someone's temperature to be \"abnormal\"?\n",
    "* As in the previous example, try calculating everything using the boostrap approach, as well as the frequentist approach.\n",
    "* Start by computing the margin of error and confidence interval. When calculating the confidence interval, keep in mind that you should use the appropriate formula for one draw, and not N draws."
   ]
  },
  {
   "cell_type": "markdown",
   "metadata": {},
   "source": [
    "* Both males and females showed that 50% of their temperatures combinedly ranged between 97 and 99. We're going to say that temperatures below 97.5 and above 99 are to be considered abnormal. \n",
    "\n",
    "**Use Bootstrapping and Frequentist methods how? Doesn't make sense.**"
   ]
  },
  {
   "cell_type": "markdown",
   "metadata": {},
   "source": [
    "### 6. Is there a significant difference between males and females in normal temperature?\n",
    "* What testing approach did you use and why?\n",
    "* Write a story with your conclusion in the context of the original problem."
   ]
  },
  {
   "cell_type": "markdown",
   "metadata": {},
   "source": [
    "* Used the two-sample t-test for independent samples because we proceed with the assumptions that:\n",
    "    * The two sample groups (Males and Females) were derived independently of each other.\n",
    "    * We were testing if their means were different from each other.\n",
    "\n",
    "Conlusion: We did not reject the Null hypothesis. The two sample groups did test to be different from each other and coming from different populations. "
   ]
  },
  {
   "cell_type": "code",
   "execution_count": null,
   "metadata": {},
   "outputs": [],
   "source": []
  }
 ],
 "metadata": {
  "kernelspec": {
   "display_name": "Python 3",
   "language": "python",
   "name": "python3"
  },
  "language_info": {
   "codemirror_mode": {
    "name": "ipython",
    "version": 3
   },
   "file_extension": ".py",
   "mimetype": "text/x-python",
   "name": "python",
   "nbconvert_exporter": "python",
   "pygments_lexer": "ipython3",
   "version": "3.6.4"
  }
 },
 "nbformat": 4,
 "nbformat_minor": 1
}
