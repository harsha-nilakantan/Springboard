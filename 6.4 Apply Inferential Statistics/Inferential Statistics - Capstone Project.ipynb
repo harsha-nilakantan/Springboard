{
 "cells": [
  {
   "cell_type": "markdown",
   "metadata": {},
   "source": [
    "# 6.4 Capstone Project - Inferential Statistics"
   ]
  },
  {
   "cell_type": "markdown",
   "metadata": {},
   "source": [
    "## Introduction:\n",
    "\n",
    "In this notebook, we're going to apply some inferential statistics techniques, including hypothesis testing and correlations, and break down some of the observations we found in the previous analyses - review the storytelling notebook."
   ]
  },
  {
   "cell_type": "markdown",
   "metadata": {},
   "source": [
    "Here's a quick summary of where we stopped with the data storytelling:"
   ]
  },
  {
   "cell_type": "markdown",
   "metadata": {},
   "source": [
    "Over 121808 songs, there are 625 unique genres in this data set and they separate quite well in the number of songs that each genre has.\n",
    "\n",
    "We explored a number of other characteristics such as Danceability, Instrumentalness, Time Signature, Tempo etc. and also further explored how some of these vary with Genre and Popularity.\n",
    "\n",
    "1. For Danceability, we saw that 75% of the data was contained under 0.7 and while working with the mean of this metric across Genre, we saw that a good 70 genres were \"highly danceable\" (>0.7)\n",
    "\n",
    "2. For Instrumentalness, after we worked with the genre means we saw that there is a population that varied in popularity from 0-60 but was overall low in instrumentalness. And we had 101 highly instrumental genres. We also varied this with popularity. We saw that the most instrumental genre had very low popularity - earlyromanticera. And the most popular of the highly instrumental genres was meditation.\n",
    "\n",
    "3. For Time Signatures, we saw that there were a good 13101 songs with non-standard time signatures (not 4.0). These did not separate well on genres, and included 585 out of the 625 genres in the 13101 songs. Of these songs, 3.0 and 5.0 were the most frequently occurring and also had similar distributions, medians and IQR, as evidenced by the violin plot.\n",
    "\n",
    "4. For Tempo, the data was spread roughly between 40 and 200, with some outliers. It did not vary distinctly with popularity.\n",
    "\n",
    "5. Danceability and Energy did not vary distinctly.\n",
    "\n",
    "6. The scatter of Speechness and Instrumentalness, shows a distinct population which ranges from 0.0 to 0.4 in Speechness while varying from 0.0 through 1.0 in Instrumentalness. This seems to be the majority of the data. So it doesn't vary distinctly with instrumentalness.\n",
    "\n",
    "7. The metric of Popularity by itself is spread across from 0-100, 75% of the data falls under 43. And it doesn't seem to be spread across any specific genre distinctly. Some of the lowest genres include celticmetal, which shows values of 0, implying that it was not listened to at all during that week."
   ]
  },
  {
   "cell_type": "markdown",
   "metadata": {},
   "source": [
    "* Given that points 4-7 did yield much to analyze further, we can skip further analysis on those points."
   ]
  },
  {
   "cell_type": "code",
   "execution_count": 3,
   "metadata": {},
   "outputs": [],
   "source": [
    "# imports\n",
    "import pandas as pd\n",
    "import numpy as np\n",
    "import matplotlib.pyplot as plt\n",
    "import scipy.stats as stats\n",
    "import seaborn as sns"
   ]
  },
  {
   "cell_type": "code",
   "execution_count": 9,
   "metadata": {},
   "outputs": [
    {
     "name": "stdout",
     "output_type": "stream",
     "text": [
      "(121815, 18)\n"
     ]
    },
    {
     "data": {
      "text/html": [
       "<div>\n",
       "<style scoped>\n",
       "    .dataframe tbody tr th:only-of-type {\n",
       "        vertical-align: middle;\n",
       "    }\n",
       "\n",
       "    .dataframe tbody tr th {\n",
       "        vertical-align: top;\n",
       "    }\n",
       "\n",
       "    .dataframe thead th {\n",
       "        text-align: right;\n",
       "    }\n",
       "</style>\n",
       "<table border=\"1\" class=\"dataframe\">\n",
       "  <thead>\n",
       "    <tr style=\"text-align: right;\">\n",
       "      <th></th>\n",
       "      <th>ID</th>\n",
       "      <th>Name</th>\n",
       "      <th>Danceability</th>\n",
       "      <th>Energy</th>\n",
       "      <th>Key</th>\n",
       "      <th>Loudness</th>\n",
       "      <th>Mode</th>\n",
       "      <th>Speechness</th>\n",
       "      <th>Acousticness</th>\n",
       "      <th>Instrumentalness</th>\n",
       "      <th>Liveness</th>\n",
       "      <th>Valence</th>\n",
       "      <th>Tempo</th>\n",
       "      <th>Duration_ms</th>\n",
       "      <th>time_signature</th>\n",
       "      <th>Genre</th>\n",
       "      <th>Artists</th>\n",
       "      <th>Popularity</th>\n",
       "    </tr>\n",
       "  </thead>\n",
       "  <tbody>\n",
       "    <tr>\n",
       "      <th>0</th>\n",
       "      <td>6J2VvzKwWc2f0JP5RQVZjq</td>\n",
       "      <td>YuveYuveYu</td>\n",
       "      <td>0.624</td>\n",
       "      <td>0.857</td>\n",
       "      <td>10.0</td>\n",
       "      <td>-6.250</td>\n",
       "      <td>0.0</td>\n",
       "      <td>0.0542</td>\n",
       "      <td>0.020800</td>\n",
       "      <td>0.206000</td>\n",
       "      <td>0.110</td>\n",
       "      <td>0.324</td>\n",
       "      <td>131.926</td>\n",
       "      <td>282920.0</td>\n",
       "      <td>4.0</td>\n",
       "      <td>celticmetal</td>\n",
       "      <td>The HU</td>\n",
       "      <td>55</td>\n",
       "    </tr>\n",
       "    <tr>\n",
       "      <th>1</th>\n",
       "      <td>4HA34COgxgVJ6zK88UN4Ik</td>\n",
       "      <td>Gloryhammer</td>\n",
       "      <td>0.517</td>\n",
       "      <td>0.916</td>\n",
       "      <td>0.0</td>\n",
       "      <td>-4.933</td>\n",
       "      <td>1.0</td>\n",
       "      <td>0.0559</td>\n",
       "      <td>0.000182</td>\n",
       "      <td>0.001910</td>\n",
       "      <td>0.306</td>\n",
       "      <td>0.444</td>\n",
       "      <td>135.996</td>\n",
       "      <td>300320.0</td>\n",
       "      <td>4.0</td>\n",
       "      <td>celticmetal</td>\n",
       "      <td>Gloryhammer</td>\n",
       "      <td>21</td>\n",
       "    </tr>\n",
       "    <tr>\n",
       "      <th>2</th>\n",
       "      <td>3W6Xik6Xxf06JuUoZSATlD</td>\n",
       "      <td>Nostos</td>\n",
       "      <td>0.251</td>\n",
       "      <td>0.894</td>\n",
       "      <td>8.0</td>\n",
       "      <td>-4.103</td>\n",
       "      <td>0.0</td>\n",
       "      <td>0.0570</td>\n",
       "      <td>0.014400</td>\n",
       "      <td>0.000000</td>\n",
       "      <td>0.123</td>\n",
       "      <td>0.297</td>\n",
       "      <td>114.223</td>\n",
       "      <td>175353.0</td>\n",
       "      <td>4.0</td>\n",
       "      <td>celticmetal</td>\n",
       "      <td>Orion's Reign</td>\n",
       "      <td>2</td>\n",
       "    </tr>\n",
       "    <tr>\n",
       "      <th>3</th>\n",
       "      <td>2gGveBaLJQMtJ43X4UL5kH</td>\n",
       "      <td>Yggdrasil</td>\n",
       "      <td>0.469</td>\n",
       "      <td>0.743</td>\n",
       "      <td>1.0</td>\n",
       "      <td>-5.570</td>\n",
       "      <td>0.0</td>\n",
       "      <td>0.0272</td>\n",
       "      <td>0.002220</td>\n",
       "      <td>0.000111</td>\n",
       "      <td>0.276</td>\n",
       "      <td>0.481</td>\n",
       "      <td>86.953</td>\n",
       "      <td>272292.0</td>\n",
       "      <td>4.0</td>\n",
       "      <td>celticmetal</td>\n",
       "      <td>Brothers of Metal</td>\n",
       "      <td>50</td>\n",
       "    </tr>\n",
       "    <tr>\n",
       "      <th>4</th>\n",
       "      <td>1lRF81A1C9QoCgBcEop2zg</td>\n",
       "      <td>Incense&amp;Iron</td>\n",
       "      <td>0.487</td>\n",
       "      <td>0.952</td>\n",
       "      <td>1.0</td>\n",
       "      <td>-4.429</td>\n",
       "      <td>0.0</td>\n",
       "      <td>0.0613</td>\n",
       "      <td>0.000228</td>\n",
       "      <td>0.000000</td>\n",
       "      <td>0.161</td>\n",
       "      <td>0.329</td>\n",
       "      <td>125.993</td>\n",
       "      <td>237933.0</td>\n",
       "      <td>4.0</td>\n",
       "      <td>celticmetal</td>\n",
       "      <td>Powerwolf</td>\n",
       "      <td>22</td>\n",
       "    </tr>\n",
       "  </tbody>\n",
       "</table>\n",
       "</div>"
      ],
      "text/plain": [
       "                       ID          Name  Danceability  Energy   Key  Loudness  \\\n",
       "0  6J2VvzKwWc2f0JP5RQVZjq    YuveYuveYu         0.624   0.857  10.0    -6.250   \n",
       "1  4HA34COgxgVJ6zK88UN4Ik   Gloryhammer         0.517   0.916   0.0    -4.933   \n",
       "2  3W6Xik6Xxf06JuUoZSATlD        Nostos         0.251   0.894   8.0    -4.103   \n",
       "3  2gGveBaLJQMtJ43X4UL5kH     Yggdrasil         0.469   0.743   1.0    -5.570   \n",
       "4  1lRF81A1C9QoCgBcEop2zg  Incense&Iron         0.487   0.952   1.0    -4.429   \n",
       "\n",
       "   Mode  Speechness  Acousticness  Instrumentalness  Liveness  Valence  \\\n",
       "0   0.0      0.0542      0.020800          0.206000     0.110    0.324   \n",
       "1   1.0      0.0559      0.000182          0.001910     0.306    0.444   \n",
       "2   0.0      0.0570      0.014400          0.000000     0.123    0.297   \n",
       "3   0.0      0.0272      0.002220          0.000111     0.276    0.481   \n",
       "4   0.0      0.0613      0.000228          0.000000     0.161    0.329   \n",
       "\n",
       "     Tempo  Duration_ms  time_signature        Genre            Artists  \\\n",
       "0  131.926     282920.0             4.0  celticmetal             The HU   \n",
       "1  135.996     300320.0             4.0  celticmetal        Gloryhammer   \n",
       "2  114.223     175353.0             4.0  celticmetal      Orion's Reign   \n",
       "3   86.953     272292.0             4.0  celticmetal  Brothers of Metal   \n",
       "4  125.993     237933.0             4.0  celticmetal          Powerwolf   \n",
       "\n",
       "   Popularity  \n",
       "0          55  \n",
       "1          21  \n",
       "2           2  \n",
       "3          50  \n",
       "4          22  "
      ]
     },
     "execution_count": 9,
     "metadata": {},
     "output_type": "execute_result"
    }
   ],
   "source": [
    "df = pd.read_csv(\"FinalData.csv\", sep = ',')\n",
    "print(df.shape)\n",
    "\n",
    "# repeating step to clean data from previous notebook, as the read induces some errors\n",
    "df = df.dropna()\n",
    "\n",
    "df.head()"
   ]
  },
  {
   "cell_type": "code",
   "execution_count": 10,
   "metadata": {},
   "outputs": [
    {
     "data": {
      "text/plain": [
       "(121808, 18)"
      ]
     },
     "execution_count": 10,
     "metadata": {},
     "output_type": "execute_result"
    }
   ],
   "source": [
    "df.shape"
   ]
  },
  {
   "cell_type": "markdown",
   "metadata": {},
   "source": [
    "**1. For Danceability, we saw that 75% of the data was contained under 0.7 and while working with the mean of this metric across Genre, we saw that a good 70 genres were \"highly danceable\" (>0.7).**\n",
    "\n",
    "Let's take a look at the \"Highly Danceable\" genres and see if popularity measures up.\n",
    "\n",
    "$H_{0}:$ **Danceability** and **Popularity** are independent for the highly danceable music.\n",
    "\n",
    "$H_{A}:$ A dependency exists between **Danceability** and **Popularity** for highly danceable music.\n",
    "\n",
    "alpha=0.05"
   ]
  },
  {
   "cell_type": "code",
   "execution_count": 18,
   "metadata": {},
   "outputs": [
    {
     "name": "stdout",
     "output_type": "stream",
     "text": [
      "                         ID                                Name  Danceability  \\\n",
      "284  0AQquaENerGps8BQmbPw14                             BigIron         0.726   \n",
      "307  4EAOs3MR4OGtGqwkSEbqO8  Medley:RingOfFire/ILoveRockAndRoll         0.710   \n",
      "308  5PiXOZhxLEPVmyqQU97yJ3                         AceOfSpades         0.721   \n",
      "349  2VbqcwDHaSgeSQtM4YGLvI                           LaLeyenda         0.738   \n",
      "476  16E0MUDEEEJHY4qO85gVPZ                      TheNightingale         0.787   \n",
      "\n",
      "     Energy  Key  Loudness  Mode  Speechness  Acousticness  Instrumentalness  \\\n",
      "284   0.474  1.0    -7.834   0.0      0.0491         0.803           0.00000   \n",
      "307   0.552  7.0    -6.301   1.0      0.0349         0.411           0.00000   \n",
      "308   0.650  6.0   -10.263   0.0      0.0980         0.270           0.00141   \n",
      "349   0.423  4.0    -9.089   0.0      0.0548         0.754           0.47800   \n",
      "476   0.722  0.0   -11.920   1.0      0.0287         0.654           0.97100   \n",
      "\n",
      "     Liveness  Valence    Tempo  Duration_ms  time_signature        Genre  \\\n",
      "284     0.258    0.570  116.027     235733.0             4.0  celticmetal   \n",
      "307     0.237    0.926  114.189     190322.0             4.0  celticmetal   \n",
      "308     0.098    0.855  137.891     131627.0             4.0  celticmetal   \n",
      "349     0.183    0.784  156.499     125213.0             4.0  celticmetal   \n",
      "476     0.182    0.746   90.070      99567.0             3.0  celticmetal   \n",
      "\n",
      "                 Artists  Popularity  \n",
      "284        Marty Robbins          68  \n",
      "307             Mandowar          17  \n",
      "308         Union Avenue          13  \n",
      "349          Swashbuckle           0  \n",
      "476  Marcin Przybyłowicz           2  \n"
     ]
    },
    {
     "data": {
      "text/html": [
       "<div>\n",
       "<style scoped>\n",
       "    .dataframe tbody tr th:only-of-type {\n",
       "        vertical-align: middle;\n",
       "    }\n",
       "\n",
       "    .dataframe tbody tr th {\n",
       "        vertical-align: top;\n",
       "    }\n",
       "\n",
       "    .dataframe thead th {\n",
       "        text-align: right;\n",
       "    }\n",
       "</style>\n",
       "<table border=\"1\" class=\"dataframe\">\n",
       "  <thead>\n",
       "    <tr style=\"text-align: right;\">\n",
       "      <th></th>\n",
       "      <th>Genre</th>\n",
       "      <th>Danceability</th>\n",
       "      <th>Popularity</th>\n",
       "    </tr>\n",
       "  </thead>\n",
       "  <tbody>\n",
       "    <tr>\n",
       "      <th>269</th>\n",
       "      <td>hardvapour</td>\n",
       "      <td>0.700500</td>\n",
       "      <td>15.500000</td>\n",
       "    </tr>\n",
       "    <tr>\n",
       "      <th>31</th>\n",
       "      <td>austrianmetal</td>\n",
       "      <td>0.702000</td>\n",
       "      <td>1.000000</td>\n",
       "    </tr>\n",
       "    <tr>\n",
       "      <th>84</th>\n",
       "      <td>chicagopunk</td>\n",
       "      <td>0.703000</td>\n",
       "      <td>38.000000</td>\n",
       "    </tr>\n",
       "    <tr>\n",
       "      <th>427</th>\n",
       "      <td>progressivetrance</td>\n",
       "      <td>0.703333</td>\n",
       "      <td>17.333333</td>\n",
       "    </tr>\n",
       "    <tr>\n",
       "      <th>126</th>\n",
       "      <td>czechfolk</td>\n",
       "      <td>0.707000</td>\n",
       "      <td>12.000000</td>\n",
       "    </tr>\n",
       "  </tbody>\n",
       "</table>\n",
       "</div>"
      ],
      "text/plain": [
       "                 Genre  Danceability  Popularity\n",
       "269         hardvapour      0.700500   15.500000\n",
       "31       austrianmetal      0.702000    1.000000\n",
       "84         chicagopunk      0.703000   38.000000\n",
       "427  progressivetrance      0.703333   17.333333\n",
       "126          czechfolk      0.707000   12.000000"
      ]
     },
     "execution_count": 18,
     "metadata": {},
     "output_type": "execute_result"
    }
   ],
   "source": [
    "# hd = highly danceable (>=0.7)\n",
    "hd = df[df.Danceability >= 0.7]\n",
    "print(hd.head())\n",
    "\n",
    "# we will work off of the means of each genre\n",
    "hd = hd.groupby('Genre').mean()\n",
    "hd = hd.reset_index()\n",
    "hd = hd[['Genre', 'Danceability', 'Popularity']]\n",
    "hd = hd.sort_values(by='Danceability')\n",
    "hd.head()"
   ]
  },
  {
   "cell_type": "code",
   "execution_count": 16,
   "metadata": {},
   "outputs": [
    {
     "data": {
      "text/plain": [
       "(558, 2)"
      ]
     },
     "execution_count": 16,
     "metadata": {},
     "output_type": "execute_result"
    }
   ],
   "source": [
    "hd.shape"
   ]
  },
  {
   "cell_type": "code",
   "execution_count": 21,
   "metadata": {},
   "outputs": [
    {
     "data": {
      "text/html": [
       "<div>\n",
       "<style scoped>\n",
       "    .dataframe tbody tr th:only-of-type {\n",
       "        vertical-align: middle;\n",
       "    }\n",
       "\n",
       "    .dataframe tbody tr th {\n",
       "        vertical-align: top;\n",
       "    }\n",
       "\n",
       "    .dataframe thead th {\n",
       "        text-align: right;\n",
       "    }\n",
       "</style>\n",
       "<table border=\"1\" class=\"dataframe\">\n",
       "  <thead>\n",
       "    <tr style=\"text-align: right;\">\n",
       "      <th></th>\n",
       "      <th>Danceability</th>\n",
       "      <th>Popularity</th>\n",
       "    </tr>\n",
       "  </thead>\n",
       "  <tbody>\n",
       "    <tr>\n",
       "      <th>count</th>\n",
       "      <td>558.000000</td>\n",
       "      <td>558.000000</td>\n",
       "    </tr>\n",
       "    <tr>\n",
       "      <th>mean</th>\n",
       "      <td>0.767623</td>\n",
       "      <td>26.919288</td>\n",
       "    </tr>\n",
       "    <tr>\n",
       "      <th>std</th>\n",
       "      <td>0.025543</td>\n",
       "      <td>15.250452</td>\n",
       "    </tr>\n",
       "    <tr>\n",
       "      <th>min</th>\n",
       "      <td>0.700500</td>\n",
       "      <td>0.000000</td>\n",
       "    </tr>\n",
       "    <tr>\n",
       "      <th>25%</th>\n",
       "      <td>0.751415</td>\n",
       "      <td>15.213869</td>\n",
       "    </tr>\n",
       "    <tr>\n",
       "      <th>50%</th>\n",
       "      <td>0.767417</td>\n",
       "      <td>26.330952</td>\n",
       "    </tr>\n",
       "    <tr>\n",
       "      <th>75%</th>\n",
       "      <td>0.783109</td>\n",
       "      <td>37.860197</td>\n",
       "    </tr>\n",
       "    <tr>\n",
       "      <th>max</th>\n",
       "      <td>0.855924</td>\n",
       "      <td>73.000000</td>\n",
       "    </tr>\n",
       "  </tbody>\n",
       "</table>\n",
       "</div>"
      ],
      "text/plain": [
       "       Danceability  Popularity\n",
       "count    558.000000  558.000000\n",
       "mean       0.767623   26.919288\n",
       "std        0.025543   15.250452\n",
       "min        0.700500    0.000000\n",
       "25%        0.751415   15.213869\n",
       "50%        0.767417   26.330952\n",
       "75%        0.783109   37.860197\n",
       "max        0.855924   73.000000"
      ]
     },
     "execution_count": 21,
     "metadata": {},
     "output_type": "execute_result"
    }
   ],
   "source": [
    "hd.describe()"
   ]
  },
  {
   "cell_type": "code",
   "execution_count": 20,
   "metadata": {},
   "outputs": [
    {
     "data": {
      "image/png": "[encoded data removed]",
      "text/plain": [
       "<matplotlib.figure.Figure at 0x1f5b3e54ef0>"
      ]
     },
     "metadata": {},
     "output_type": "display_data"
    }
   ],
   "source": [
    "sns.regplot(x='Danceability', y='Popularity', data=hd, fit_reg=True)\n",
    "plt.show()"
   ]
  },
  {
   "cell_type": "markdown",
   "metadata": {},
   "source": [
    "We can see a very loose trend that as Danceability increases, Popularity also seems to follow. Let us test this."
   ]
  },
  {
   "cell_type": "code",
   "execution_count": 43,
   "metadata": {},
   "outputs": [
    {
     "name": "stdout",
     "output_type": "stream",
     "text": [
      "p-value:  1.541768372533525e-07\n",
      "\n",
      "We reject the Null Hypothesis, and accept the Alternate Hypothesis: Danceability and Popularity have a dependency.\n"
     ]
    }
   ],
   "source": [
    "stat, p = stats.pearsonr(hd.Danceability, hd.Popularity)\n",
    "print(\"p-value: \", p)\n",
    "if p > 0.05:\n",
    "    print('\\nWe accept the Null Hypothesis in this case: The Danceabiility and Popularity are probably independent for highly danceable data')\n",
    "else: \n",
    "    print('\\nWe reject the Null Hypothesis, and accept the Alternate Hypothesis: Danceability and Popularity have a dependency.')    "
   ]
  },
  {
   "cell_type": "markdown",
   "metadata": {},
   "source": [
    "**2. For Instrumentalness, after we worked with the genre means we saw that there is a population that varied in popularity from 0-60 but was overall low in instrumentalness. And we had 101 highly instrumental genres. We also varied this with popularity. We saw that the most instrumental genre had very low popularity - earlyromanticera. And the most popular of the highly instrumental genres was meditation.**\n",
    "\n",
    "Let us try to examine how the highly instrumental genres vary with popularity.\n",
    "\n",
    "$H_{0}:$ Instrumentalness and Popularity are independent for highly instrumental genres\n",
    "\n",
    "$H_{A}:$ Instrumentalness and Popularity have a dependency for highly instrumental genres\n",
    "\n",
    "alpha: 0.05"
   ]
  },
  {
   "cell_type": "code",
   "execution_count": 44,
   "metadata": {},
   "outputs": [
    {
     "name": "stdout",
     "output_type": "stream",
     "text": [
      "          Genre  Instrumentalness  Popularity\n",
      "18  celticmetal             0.916          42\n",
      "30  celticmetal             0.778           1\n",
      "44  celticmetal             0.835          46\n",
      "52  celticmetal             0.812          12\n",
      "57  celticmetal             0.707          31\n"
     ]
    },
    {
     "data": {
      "text/html": [
       "<div>\n",
       "<style scoped>\n",
       "    .dataframe tbody tr th:only-of-type {\n",
       "        vertical-align: middle;\n",
       "    }\n",
       "\n",
       "    .dataframe tbody tr th {\n",
       "        vertical-align: top;\n",
       "    }\n",
       "\n",
       "    .dataframe thead th {\n",
       "        text-align: right;\n",
       "    }\n",
       "</style>\n",
       "<table border=\"1\" class=\"dataframe\">\n",
       "  <thead>\n",
       "    <tr style=\"text-align: right;\">\n",
       "      <th></th>\n",
       "      <th>Genre</th>\n",
       "      <th>Instrumentalness</th>\n",
       "      <th>Popularity</th>\n",
       "    </tr>\n",
       "  </thead>\n",
       "  <tbody>\n",
       "    <tr>\n",
       "      <th>240</th>\n",
       "      <td>girlgroup</td>\n",
       "      <td>0.546000</td>\n",
       "      <td>35.000000</td>\n",
       "    </tr>\n",
       "    <tr>\n",
       "      <th>445</th>\n",
       "      <td>rock</td>\n",
       "      <td>0.563000</td>\n",
       "      <td>41.000000</td>\n",
       "    </tr>\n",
       "    <tr>\n",
       "      <th>100</th>\n",
       "      <td>classicswedishpop</td>\n",
       "      <td>0.564500</td>\n",
       "      <td>40.000000</td>\n",
       "    </tr>\n",
       "    <tr>\n",
       "      <th>308</th>\n",
       "      <td>latinmetal</td>\n",
       "      <td>0.567000</td>\n",
       "      <td>13.500000</td>\n",
       "    </tr>\n",
       "    <tr>\n",
       "      <th>460</th>\n",
       "      <td>scandinavianr&amp;b</td>\n",
       "      <td>0.569000</td>\n",
       "      <td>30.000000</td>\n",
       "    </tr>\n",
       "    <tr>\n",
       "      <th>279</th>\n",
       "      <td>indonesianhiphop</td>\n",
       "      <td>0.577000</td>\n",
       "      <td>0.000000</td>\n",
       "    </tr>\n",
       "    <tr>\n",
       "      <th>177</th>\n",
       "      <td>earlymusic</td>\n",
       "      <td>0.584000</td>\n",
       "      <td>36.000000</td>\n",
       "    </tr>\n",
       "    <tr>\n",
       "      <th>19</th>\n",
       "      <td>atmosphere</td>\n",
       "      <td>0.590000</td>\n",
       "      <td>44.000000</td>\n",
       "    </tr>\n",
       "    <tr>\n",
       "      <th>435</th>\n",
       "      <td>rapmetalcore</td>\n",
       "      <td>0.594500</td>\n",
       "      <td>20.500000</td>\n",
       "    </tr>\n",
       "    <tr>\n",
       "      <th>191</th>\n",
       "      <td>estonianhiphop</td>\n",
       "      <td>0.599000</td>\n",
       "      <td>1.000000</td>\n",
       "    </tr>\n",
       "    <tr>\n",
       "      <th>123</th>\n",
       "      <td>danishpop</td>\n",
       "      <td>0.610000</td>\n",
       "      <td>53.000000</td>\n",
       "    </tr>\n",
       "    <tr>\n",
       "      <th>235</th>\n",
       "      <td>germanpunk</td>\n",
       "      <td>0.611667</td>\n",
       "      <td>25.666667</td>\n",
       "    </tr>\n",
       "    <tr>\n",
       "      <th>404</th>\n",
       "      <td>polynesianpop</td>\n",
       "      <td>0.612500</td>\n",
       "      <td>39.000000</td>\n",
       "    </tr>\n",
       "    <tr>\n",
       "      <th>4</th>\n",
       "      <td>albanianhiphop</td>\n",
       "      <td>0.614000</td>\n",
       "      <td>28.666667</td>\n",
       "    </tr>\n",
       "    <tr>\n",
       "      <th>438</th>\n",
       "      <td>rebetiko</td>\n",
       "      <td>0.617000</td>\n",
       "      <td>13.000000</td>\n",
       "    </tr>\n",
       "    <tr>\n",
       "      <th>73</th>\n",
       "      <td>chanson</td>\n",
       "      <td>0.622500</td>\n",
       "      <td>14.750000</td>\n",
       "    </tr>\n",
       "    <tr>\n",
       "      <th>376</th>\n",
       "      <td>norwegianhiphop</td>\n",
       "      <td>0.624000</td>\n",
       "      <td>23.000000</td>\n",
       "    </tr>\n",
       "    <tr>\n",
       "      <th>24</th>\n",
       "      <td>australianpop</td>\n",
       "      <td>0.626000</td>\n",
       "      <td>37.000000</td>\n",
       "    </tr>\n",
       "    <tr>\n",
       "      <th>362</th>\n",
       "      <td>newjackswing</td>\n",
       "      <td>0.635500</td>\n",
       "      <td>44.000000</td>\n",
       "    </tr>\n",
       "    <tr>\n",
       "      <th>37</th>\n",
       "      <td>belgianindierock</td>\n",
       "      <td>0.640625</td>\n",
       "      <td>27.125000</td>\n",
       "    </tr>\n",
       "  </tbody>\n",
       "</table>\n",
       "</div>"
      ],
      "text/plain": [
       "                 Genre  Instrumentalness  Popularity\n",
       "240          girlgroup          0.546000   35.000000\n",
       "445               rock          0.563000   41.000000\n",
       "100  classicswedishpop          0.564500   40.000000\n",
       "308         latinmetal          0.567000   13.500000\n",
       "460    scandinavianr&b          0.569000   30.000000\n",
       "279   indonesianhiphop          0.577000    0.000000\n",
       "177         earlymusic          0.584000   36.000000\n",
       "19          atmosphere          0.590000   44.000000\n",
       "435       rapmetalcore          0.594500   20.500000\n",
       "191     estonianhiphop          0.599000    1.000000\n",
       "123          danishpop          0.610000   53.000000\n",
       "235         germanpunk          0.611667   25.666667\n",
       "404      polynesianpop          0.612500   39.000000\n",
       "4       albanianhiphop          0.614000   28.666667\n",
       "438           rebetiko          0.617000   13.000000\n",
       "73             chanson          0.622500   14.750000\n",
       "376    norwegianhiphop          0.624000   23.000000\n",
       "24       australianpop          0.626000   37.000000\n",
       "362       newjackswing          0.635500   44.000000\n",
       "37    belgianindierock          0.640625   27.125000"
      ]
     },
     "execution_count": 44,
     "metadata": {},
     "output_type": "execute_result"
    }
   ],
   "source": [
    "# hi = highly instrumental (>=0.54) See Storytelling notebook to see how we landed on this chosen value\n",
    "hi = df[df.Instrumentalness >= 0.54]\n",
    "hi = hi[['Genre', 'Instrumentalness', 'Popularity']]\n",
    "print(hi.head())\n",
    "\n",
    "# we will work off of the means of each genre\n",
    "hi = hi.groupby('Genre').mean()\n",
    "hi = hi.reset_index()\n",
    "hi = hi.sort_values(by='Instrumentalness')\n",
    "hi.head(20)"
   ]
  },
  {
   "cell_type": "code",
   "execution_count": 45,
   "metadata": {},
   "outputs": [
    {
     "data": {
      "text/html": [
       "<div>\n",
       "<style scoped>\n",
       "    .dataframe tbody tr th:only-of-type {\n",
       "        vertical-align: middle;\n",
       "    }\n",
       "\n",
       "    .dataframe tbody tr th {\n",
       "        vertical-align: top;\n",
       "    }\n",
       "\n",
       "    .dataframe thead th {\n",
       "        text-align: right;\n",
       "    }\n",
       "</style>\n",
       "<table border=\"1\" class=\"dataframe\">\n",
       "  <thead>\n",
       "    <tr style=\"text-align: right;\">\n",
       "      <th></th>\n",
       "      <th>Genre</th>\n",
       "      <th>Instrumentalness</th>\n",
       "      <th>Popularity</th>\n",
       "    </tr>\n",
       "  </thead>\n",
       "  <tbody>\n",
       "    <tr>\n",
       "      <th>476</th>\n",
       "      <td>spaceambient</td>\n",
       "      <td>0.897703</td>\n",
       "      <td>34.715190</td>\n",
       "    </tr>\n",
       "    <tr>\n",
       "      <th>291</th>\n",
       "      <td>italianrenaissance</td>\n",
       "      <td>0.900007</td>\n",
       "      <td>7.562914</td>\n",
       "    </tr>\n",
       "    <tr>\n",
       "      <th>215</th>\n",
       "      <td>frenchhiphop</td>\n",
       "      <td>0.902000</td>\n",
       "      <td>0.000000</td>\n",
       "    </tr>\n",
       "    <tr>\n",
       "      <th>477</th>\n",
       "      <td>spanishfolk</td>\n",
       "      <td>0.902682</td>\n",
       "      <td>18.447059</td>\n",
       "    </tr>\n",
       "    <tr>\n",
       "      <th>54</th>\n",
       "      <td>britishbrassband</td>\n",
       "      <td>0.903467</td>\n",
       "      <td>11.171429</td>\n",
       "    </tr>\n",
       "    <tr>\n",
       "      <th>403</th>\n",
       "      <td>polishfolk</td>\n",
       "      <td>0.907000</td>\n",
       "      <td>14.000000</td>\n",
       "    </tr>\n",
       "    <tr>\n",
       "      <th>349</th>\n",
       "      <td>musicaperbambini</td>\n",
       "      <td>0.914667</td>\n",
       "      <td>18.424242</td>\n",
       "    </tr>\n",
       "    <tr>\n",
       "      <th>110</th>\n",
       "      <td>countryrap</td>\n",
       "      <td>0.915000</td>\n",
       "      <td>46.000000</td>\n",
       "    </tr>\n",
       "    <tr>\n",
       "      <th>86</th>\n",
       "      <td>christianpunk</td>\n",
       "      <td>0.915000</td>\n",
       "      <td>19.000000</td>\n",
       "    </tr>\n",
       "    <tr>\n",
       "      <th>540</th>\n",
       "      <td>welshchoir</td>\n",
       "      <td>0.915000</td>\n",
       "      <td>4.000000</td>\n",
       "    </tr>\n",
       "    <tr>\n",
       "      <th>470</th>\n",
       "      <td>slovakindie</td>\n",
       "      <td>0.916000</td>\n",
       "      <td>12.000000</td>\n",
       "    </tr>\n",
       "    <tr>\n",
       "      <th>89</th>\n",
       "      <td>classicalbaritone</td>\n",
       "      <td>0.917456</td>\n",
       "      <td>3.932039</td>\n",
       "    </tr>\n",
       "    <tr>\n",
       "      <th>188</th>\n",
       "      <td>emorap</td>\n",
       "      <td>0.918500</td>\n",
       "      <td>39.500000</td>\n",
       "    </tr>\n",
       "    <tr>\n",
       "      <th>545</th>\n",
       "      <td>worship</td>\n",
       "      <td>0.926000</td>\n",
       "      <td>42.666667</td>\n",
       "    </tr>\n",
       "    <tr>\n",
       "      <th>178</th>\n",
       "      <td>earlyromanticera</td>\n",
       "      <td>0.930485</td>\n",
       "      <td>8.939394</td>\n",
       "    </tr>\n",
       "    <tr>\n",
       "      <th>69</th>\n",
       "      <td>chamame</td>\n",
       "      <td>0.931500</td>\n",
       "      <td>12.500000</td>\n",
       "    </tr>\n",
       "    <tr>\n",
       "      <th>107</th>\n",
       "      <td>cornetasytambores</td>\n",
       "      <td>0.932155</td>\n",
       "      <td>23.549296</td>\n",
       "    </tr>\n",
       "    <tr>\n",
       "      <th>238</th>\n",
       "      <td>germanworship</td>\n",
       "      <td>0.944000</td>\n",
       "      <td>11.333333</td>\n",
       "    </tr>\n",
       "    <tr>\n",
       "      <th>353</th>\n",
       "      <td>musiqueacadienne</td>\n",
       "      <td>0.964000</td>\n",
       "      <td>0.000000</td>\n",
       "    </tr>\n",
       "    <tr>\n",
       "      <th>268</th>\n",
       "      <td>hungarianpunk</td>\n",
       "      <td>0.987000</td>\n",
       "      <td>58.000000</td>\n",
       "    </tr>\n",
       "  </tbody>\n",
       "</table>\n",
       "</div>"
      ],
      "text/plain": [
       "                  Genre  Instrumentalness  Popularity\n",
       "476        spaceambient          0.897703   34.715190\n",
       "291  italianrenaissance          0.900007    7.562914\n",
       "215        frenchhiphop          0.902000    0.000000\n",
       "477         spanishfolk          0.902682   18.447059\n",
       "54     britishbrassband          0.903467   11.171429\n",
       "403          polishfolk          0.907000   14.000000\n",
       "349    musicaperbambini          0.914667   18.424242\n",
       "110          countryrap          0.915000   46.000000\n",
       "86        christianpunk          0.915000   19.000000\n",
       "540          welshchoir          0.915000    4.000000\n",
       "470         slovakindie          0.916000   12.000000\n",
       "89    classicalbaritone          0.917456    3.932039\n",
       "188              emorap          0.918500   39.500000\n",
       "545             worship          0.926000   42.666667\n",
       "178    earlyromanticera          0.930485    8.939394\n",
       "69              chamame          0.931500   12.500000\n",
       "107   cornetasytambores          0.932155   23.549296\n",
       "238       germanworship          0.944000   11.333333\n",
       "353    musiqueacadienne          0.964000    0.000000\n",
       "268       hungarianpunk          0.987000   58.000000"
      ]
     },
     "execution_count": 45,
     "metadata": {},
     "output_type": "execute_result"
    }
   ],
   "source": [
    "hi.tail(20)"
   ]
  },
  {
   "cell_type": "code",
   "execution_count": 46,
   "metadata": {},
   "outputs": [
    {
     "data": {
      "image/png": "[encoded data removed]",
      "text/plain": [
       "<matplotlib.figure.Figure at 0x1f5b154d748>"
      ]
     },
     "metadata": {},
     "output_type": "display_data"
    }
   ],
   "source": [
    "sns.regplot(x='Instrumentalness', y='Popularity', data=hi, fit_reg=True)\n",
    "plt.show()"
   ]
  },
  {
   "cell_type": "markdown",
   "metadata": {},
   "source": [
    "We see a trend that as Instrumentalness goes down, Popularity also goes down."
   ]
  },
  {
   "cell_type": "code",
   "execution_count": 47,
   "metadata": {},
   "outputs": [
    {
     "name": "stdout",
     "output_type": "stream",
     "text": [
      "p-value:  4.57539854463985e-05\n",
      "We reject the Null Hypothesis, and accept the Alternate Hypothesis: Instrumentalness and Popularity have a dependency.\n"
     ]
    }
   ],
   "source": [
    "stat, p = stats.pearsonr(hi.Instrumentalness, hi.Popularity)\n",
    "print(\"p-value: \", p)\n",
    "if p > 0.05:\n",
    "    print('We accept the Null Hypothesis in this case: The Instrumentalness and Popularity are probably independent for highly instrumental music')\n",
    "else: \n",
    "    print('We reject the Null Hypothesis, and accept the Alternate Hypothesis: Instrumentalness and Popularity have a dependency.')    "
   ]
  },
  {
   "cell_type": "markdown",
   "metadata": {},
   "source": [
    "**3. For Time Signatures, we saw that there were a good 13101 songs with non-standard time signatures (not 4.0). These did not separate well on genres, and included 585 out of the 625 genres in the 13101 songs. Of these songs, 3.0 and 5.0 were the most frequently occurring and also had similar distributions, medians and IQR, as evidenced by the violin plot.**\n",
    "\n",
    "$H_{0}:$ 3.0 and 5.0 time signature songs are do not differ in the means of their popularity.\n",
    "\n",
    "$H_{A}:$ 3.0 and 5.0 time signature songs are significantly different in the means of their popularity.\n",
    "\n",
    "alpha: 0.05"
   ]
  },
  {
   "cell_type": "code",
   "execution_count": 56,
   "metadata": {},
   "outputs": [
    {
     "name": "stdout",
     "output_type": "stream",
     "text": [
      "10223\n"
     ]
    },
    {
     "data": {
      "text/plain": [
       "1786"
      ]
     },
     "execution_count": 56,
     "metadata": {},
     "output_type": "execute_result"
    }
   ],
   "source": [
    "# extracting 3.0 and 5.0 non-std time signatures\n",
    "\n",
    "# a - 3.0 time signatures\n",
    "a = df[df.time_signature == 3.0].Popularity\n",
    "print(len(a))\n",
    "\n",
    "# b - 5.0 time signatures\n",
    "b = df[df.time_signature == 5.0].Popularity\n",
    "len(b)"
   ]
  },
  {
   "cell_type": "code",
   "execution_count": 57,
   "metadata": {},
   "outputs": [
    {
     "name": "stdout",
     "output_type": "stream",
     "text": [
      "\n",
      "t-statistic:  -1.8591433901138583\n",
      "\n",
      "p-value:  0.06303126194492673\n",
      "\n",
      "We accept the Null Hypothesis: The two time signatures do not differ in the means of their popularity\n"
     ]
    }
   ],
   "source": [
    "# We will perform a two-sample independent t-test to evaluate how different they are.\n",
    "t, p = stats.ttest_ind(a, b)\n",
    "print(\"\\nt-statistic: \", t)\n",
    "print(\"\\np-value: \", p)\n",
    "if p > 0.05:\n",
    "    print('\\nWe accept the Null Hypothesis: The two time signatures do not differ in the means of their popularity')\n",
    "else:\n",
    "    print('\\nWe reject the Null Hypothesis and accept the Alternate Hypothesis: The two time signatures do differ in the means of their popularity')"
   ]
  },
  {
   "cell_type": "markdown",
   "metadata": {},
   "source": [
    "* Given that we see 3.0 and 5.0 to have similar distributions, let us try to understand how the distributions for the non-standard time signatures 1.0 and 5.0 vary with each other, as they do seem to vary in popularity, as evidenced by the violin plot in the storytelling notebook.\n",
    "\n",
    "$H_{0}:$ 1.0 and 5.0 time signature songs are do not differ in the means of their popularity.\n",
    "\n",
    "$H_{A}:$ 1.0 and 5.0 time signature songs are significantly different in the means of their popularity.\n",
    "\n",
    "alpha: 0.05"
   ]
  },
  {
   "cell_type": "code",
   "execution_count": 61,
   "metadata": {},
   "outputs": [
    {
     "name": "stdout",
     "output_type": "stream",
     "text": [
      "1061\n"
     ]
    },
    {
     "data": {
      "text/plain": [
       "1786"
      ]
     },
     "execution_count": 61,
     "metadata": {},
     "output_type": "execute_result"
    }
   ],
   "source": [
    "# extracting 1.0 and 5.0 non-std time signatures\n",
    "\n",
    "# a - 1.0 time signatures\n",
    "c = df[df.time_signature == 1.0].Popularity\n",
    "print(len(c))\n",
    "\n",
    "# b - 5.0 time signatures\n",
    "d = df[df.time_signature == 5.0].Popularity\n",
    "len(d)"
   ]
  },
  {
   "cell_type": "code",
   "execution_count": 62,
   "metadata": {},
   "outputs": [
    {
     "name": "stdout",
     "output_type": "stream",
     "text": [
      "\n",
      "t-statistic:  -3.2003243186418935\n",
      "\n",
      "p-value:  0.0013878371734410704\n",
      "\n",
      "We reject the Null Hypothesis and accept the Alternate Hypothesis: The two time signatures do differ in the means of their popularity\n"
     ]
    }
   ],
   "source": [
    "# We will perform a two-sample independent t-test to evaluate how different they are.\n",
    "t, p = stats.ttest_ind(c, d)\n",
    "print(\"\\nt-statistic: \", t)\n",
    "print(\"\\np-value: \", p)\n",
    "if p > 0.05:\n",
    "    print('\\nWe accept the Null Hypothesis: The two time signatures do not differ in the means of their popularity')\n",
    "else:\n",
    "    print('\\nWe reject the Null Hypothesis and accept the Alternate Hypothesis: The two time signatures do differ in the means of their popularity')"
   ]
  },
  {
   "cell_type": "markdown",
   "metadata": {},
   "source": [
    "* We can see that there is certainly a significant difference between the 1.0 and 5.0 time signatures **AND** there isn't a significant difference between 3.0 and 5.0 signatures, as predicted by the distributions in the violin plots in our initial analysis (in the Storytelling notebook)."
   ]
  },
  {
   "cell_type": "code",
   "execution_count": null,
   "metadata": {},
   "outputs": [],
   "source": []
  }
 ],
 "metadata": {
  "kernelspec": {
   "display_name": "Python 3",
   "language": "python",
   "name": "python3"
  },
  "language_info": {
   "codemirror_mode": {
    "name": "ipython",
    "version": 3
   },
   "file_extension": ".py",
   "mimetype": "text/x-python",
   "name": "python",
   "nbconvert_exporter": "python",
   "pygments_lexer": "ipython3",
   "version": "3.6.4"
  }
 },
 "nbformat": 4,
 "nbformat_minor": 2
}
