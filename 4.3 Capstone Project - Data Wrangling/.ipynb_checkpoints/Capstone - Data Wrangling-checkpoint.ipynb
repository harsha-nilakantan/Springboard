{
 "cells": [
  {
   "cell_type": "markdown",
   "metadata": {},
   "source": [
    "# Capstone Project - Data Wrangling: Spotify Data of 130k Songs\n",
    "***\n",
    "This notebook will work through the initial exploration of the Spotify data set."
   ]
  },
  {
   "cell_type": "markdown",
   "metadata": {},
   "source": [
    "### Imports and Data Read"
   ]
  },
  {
   "cell_type": "code",
   "execution_count": 107,
   "metadata": {},
   "outputs": [],
   "source": [
    "# Imports\n",
    "\n",
    "# imports for generic processing\n",
    "import pandas as pd\n",
    "import numpy as np\n",
    "import matplotlib.pyplot as plt\n",
    "\n",
    "# imports for Spotify connection\n",
    "import os\n",
    "import sys\n",
    "import json\n",
    "import spotipy\n",
    "import webbrowser\n",
    "import spotipy.util as util\n"
   ]
  },
  {
   "cell_type": "code",
   "execution_count": 108,
   "metadata": {},
   "outputs": [
    {
     "name": "stdout",
     "output_type": "stream",
     "text": [
      "\n",
      "            Name  Danceability  Energy   Key  Loudness  Mode  Speechness  \\\n",
      "0    YuveYuveYu         0.624   0.857  10.0    -6.250   0.0      0.0542   \n",
      "1   Gloryhammer         0.517   0.916   0.0    -4.933   1.0      0.0559   \n",
      "2        Nostos         0.251   0.894   8.0    -4.103   0.0      0.0570   \n",
      "3     Yggdrasil         0.469   0.743   1.0    -5.570   0.0      0.0272   \n",
      "4  Incense&Iron         0.487   0.952   1.0    -4.429   0.0      0.0613   \n",
      "\n",
      "   Acousticness  Instrumentalness  Liveness  Valence    Tempo            Type  \\\n",
      "0      0.020800          0.206000     0.110    0.324  131.926  audio_features   \n",
      "1      0.000182          0.001910     0.306    0.444  135.996  audio_features   \n",
      "2      0.014400          0.000000     0.123    0.297  114.223  audio_features   \n",
      "3      0.002220          0.000111     0.276    0.481   86.953  audio_features   \n",
      "4      0.000228          0.000000     0.161    0.329  125.993  audio_features   \n",
      "\n",
      "                       ID                                   Uri  \\\n",
      "0  6J2VvzKwWc2f0JP5RQVZjq  spotify:track:6J2VvzKwWc2f0JP5RQVZjq   \n",
      "1  4HA34COgxgVJ6zK88UN4Ik  spotify:track:4HA34COgxgVJ6zK88UN4Ik   \n",
      "2  3W6Xik6Xxf06JuUoZSATlD  spotify:track:3W6Xik6Xxf06JuUoZSATlD   \n",
      "3  2gGveBaLJQMtJ43X4UL5kH  spotify:track:2gGveBaLJQMtJ43X4UL5kH   \n",
      "4  1lRF81A1C9QoCgBcEop2zg  spotify:track:1lRF81A1C9QoCgBcEop2zg   \n",
      "\n",
      "                                           Ref_Track  \\\n",
      "0  https://api.spotify.com/v1/tracks/6J2VvzKwWc2f...   \n",
      "1  https://api.spotify.com/v1/tracks/4HA34COgxgVJ...   \n",
      "2  https://api.spotify.com/v1/tracks/3W6Xik6Xxf06...   \n",
      "3  https://api.spotify.com/v1/tracks/2gGveBaLJQMt...   \n",
      "4  https://api.spotify.com/v1/tracks/1lRF81A1C9Qo...   \n",
      "\n",
      "                                        URL_features  Duration_ms  \\\n",
      "0  https://api.spotify.com/v1/audio-analysis/6J2V...     282920.0   \n",
      "1  https://api.spotify.com/v1/audio-analysis/4HA3...     300320.0   \n",
      "2  https://api.spotify.com/v1/audio-analysis/3W6X...     175353.0   \n",
      "3  https://api.spotify.com/v1/audio-analysis/2gGv...     272292.0   \n",
      "4  https://api.spotify.com/v1/audio-analysis/1lRF...     237933.0   \n",
      "\n",
      "  time_signature        Genre  \n",
      "0            4.0  celticmetal  \n",
      "1            4.0  celticmetal  \n",
      "2            4.0  celticmetal  \n",
      "3            4.0  celticmetal  \n",
      "4            4.0  celticmetal  \n",
      "\n",
      " (131580, 20)\n",
      "\n",
      " Index(['Name', 'Danceability', 'Energy', 'Key', 'Loudness', 'Mode',\n",
      "       'Speechness', 'Acousticness', 'Instrumentalness', 'Liveness', 'Valence',\n",
      "       'Tempo', 'Type', 'ID', 'Uri', 'Ref_Track', 'URL_features',\n",
      "       'Duration_ms', 'time_signature', 'Genre'],\n",
      "      dtype='object')\n"
     ]
    }
   ],
   "source": [
    "# reading the input Spotify data from tsv\n",
    "\n",
    "df = pd.read_csv('C:\\\\Users\\\\Harsha Neel\\\\Documents\\\\GitHub\\\\Springboard\\\\Capstone Data\\\\songDB.tsv', sep = '\\t', engine='python')\n",
    "print(\"\\n\", df.head())\n",
    "print(\"\\n\", df.shape)\n",
    "print(\"\\n\", df.columns)"
   ]
  },
  {
   "cell_type": "code",
   "execution_count": 109,
   "metadata": {},
   "outputs": [
    {
     "name": "stdout",
     "output_type": "stream",
     "text": [
      "\n",
      "            Name  Danceability  Energy   Key  Loudness  Mode  Speechness  \\\n",
      "0    YuveYuveYu         0.624   0.857  10.0    -6.250   0.0      0.0542   \n",
      "1   Gloryhammer         0.517   0.916   0.0    -4.933   1.0      0.0559   \n",
      "2        Nostos         0.251   0.894   8.0    -4.103   0.0      0.0570   \n",
      "3     Yggdrasil         0.469   0.743   1.0    -5.570   0.0      0.0272   \n",
      "4  Incense&Iron         0.487   0.952   1.0    -4.429   0.0      0.0613   \n",
      "\n",
      "   Acousticness  Instrumentalness  Liveness  Valence    Tempo  \\\n",
      "0      0.020800          0.206000     0.110    0.324  131.926   \n",
      "1      0.000182          0.001910     0.306    0.444  135.996   \n",
      "2      0.014400          0.000000     0.123    0.297  114.223   \n",
      "3      0.002220          0.000111     0.276    0.481   86.953   \n",
      "4      0.000228          0.000000     0.161    0.329  125.993   \n",
      "\n",
      "                       ID  Duration_ms time_signature        Genre  \n",
      "0  6J2VvzKwWc2f0JP5RQVZjq     282920.0            4.0  celticmetal  \n",
      "1  4HA34COgxgVJ6zK88UN4Ik     300320.0            4.0  celticmetal  \n",
      "2  3W6Xik6Xxf06JuUoZSATlD     175353.0            4.0  celticmetal  \n",
      "3  2gGveBaLJQMtJ43X4UL5kH     272292.0            4.0  celticmetal  \n",
      "4  1lRF81A1C9QoCgBcEop2zg     237933.0            4.0  celticmetal  \n",
      "\n",
      " (131580, 16)\n",
      "\n",
      " Index(['Name', 'Danceability', 'Energy', 'Key', 'Loudness', 'Mode',\n",
      "       'Speechness', 'Acousticness', 'Instrumentalness', 'Liveness', 'Valence',\n",
      "       'Tempo', 'ID', 'Duration_ms', 'time_signature', 'Genre'],\n",
      "      dtype='object')\n"
     ]
    }
   ],
   "source": [
    "# Cleaning up data - removing unnecessary columns, index by track ID etc.\n",
    "\n",
    "# index by track ID\n",
    "df_cleaned = df.set_index('ID')\n",
    "\n",
    "df_cleaned = df_cleaned.drop(['Type', 'Uri', 'Ref_Track', 'URL_features'], axis=1)\n",
    "print(\"\\n\", df_cleaned.head())\n",
    "print(\"\\n\", df_cleaned.shape)\n",
    "print(\"\\n\", df_cleaned.columns)\n"
   ]
  },
  {
   "cell_type": "markdown",
   "metadata": {},
   "source": [
    "### Spotify Connection and Data Supplementation\n",
    "***\n",
    "<b>Now that the data is been read, we want to connect to Spotify and use the code to download the \"genre\" information using the track IDs from the data.\n",
    "***\n",
    "To connect with Spotify we need to use the Spotipy library. \n",
    "Detailed instructions on connecting with Spotify can be found in the library's [website](https://spotipy.readthedocs.io/en/latest/?highlight=playlist#spotipy.client.Spotify.category_playlists)</b>"
   ]
  },
  {
   "cell_type": "markdown",
   "metadata": {},
   "source": [
    "<h4>Summary on connecting with Spotify:</h4>\n",
    "<ol>\n",
    "<li> Placeholder1\n",
    "<li> Placeholder2\n",
    "</ol>"
   ]
  },
  {
   "cell_type": "code",
   "execution_count": 75,
   "metadata": {},
   "outputs": [
    {
     "name": "stdout",
     "output_type": "stream",
     "text": [
      "Harsha Neel\n"
     ]
    }
   ],
   "source": [
    "# Get the username from terminal\n",
    "username = os.getlogin()\n",
    "scope = 'user-library-read user-read-private'\n",
    "\n",
    "# Erase cache and prompt for user permission\n",
    "try : \n",
    "    token = util.prompt_for_user_token(username, scope)\n",
    "except: \n",
    "    os.remove(f\".cache-{username}\")\n",
    "    token = util.prompt_for_user_token(username, scope)\n",
    "    \n",
    "# Create Spotify object with permissions\n",
    "spotifyObj = spotipy.Spotify(auth=token)\n",
    "\n",
    "user = spotifyObj.current_user()\n",
    "\n",
    "displayName = user['display_name']\n",
    "followers = user['followers']['total']\n",
    "\n",
    "print(displayName)"
   ]
  },
  {
   "cell_type": "code",
   "execution_count": 95,
   "metadata": {},
   "outputs": [
    {
     "name": "stdout",
     "output_type": "stream",
     "text": [
      "<class 'pandas.core.series.Series'>\n",
      "(2,)\n",
      "The HU :  55\n",
      "Gloryhammer :  21\n",
      "dict_values([('The HU', 55), ('Gloryhammer', 21)])\n",
      "dict_items([('6J2VvzKwWc2f0JP5RQVZjq', ('The HU', 55)), ('4HA34COgxgVJ6zK88UN4Ik', ('Gloryhammer', 21))])\n"
     ]
    }
   ],
   "source": [
    "trackIDs = df.loc[0:1,'ID']\n",
    "print(type(trackIDs))\n",
    "print(trackIDs.shape)\n",
    "\n",
    "#trackObjects = spotifyObj.tracks(trackIDs)\n",
    "counter=0\n",
    "newColumns = {}\n",
    "\n",
    "for trackID in trackIDs:\n",
    "    \n",
    "    track = spotifyObj.track(trackID)\n",
    "    popularity = track['popularity']\n",
    "    artist = track['album']['artists'][0]['name']\n",
    "    \n",
    "    # pack into dictionary, keyed by track ID\n",
    "    newColumns[trackID] = (artist, popularity)\n",
    "    counter += 1\n",
    "    print(artist, \": \", popularity)\n",
    "    \n",
    "var = newColumns.values()\n",
    "\n",
    "print(var)\n",
    "df2 = df.loc[0:1, :]\n",
    "\n",
    "df2.append(newColumns.values())\n",
    "\n",
    "\n",
    "\n",
    "\n",
    "#print(id)\n",
    "#print(spotifyObj.track(trackIDs[20])['album']['uri'])\n",
    "#print(spotifyObj.album(id)['genres'])\n"
   ]
  },
  {
   "cell_type": "code",
   "execution_count": null,
   "metadata": {},
   "outputs": [],
   "source": []
  }
 ],
 "metadata": {
  "kernelspec": {
   "display_name": "Python 3",
   "language": "python",
   "name": "python3"
  },
  "language_info": {
   "codemirror_mode": {
    "name": "ipython",
    "version": 3
   },
   "file_extension": ".py",
   "mimetype": "text/x-python",
   "name": "python",
   "nbconvert_exporter": "python",
   "pygments_lexer": "ipython3",
   "version": "3.6.4"
  }
 },
 "nbformat": 4,
 "nbformat_minor": 2
}
